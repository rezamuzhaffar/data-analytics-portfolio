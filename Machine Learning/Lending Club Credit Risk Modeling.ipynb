{
 "cells": [
  {
   "cell_type": "markdown",
   "id": "5f28b8a9",
   "metadata": {},
   "source": [
    "# Credit Risk Modeling\n",
    "Financial firms use credit risk modeling, a mathematical technique, to determine the probability that a borrower will miss payments on a loan or otherwise fail to fulfill their credit obligations. Credit risk modeling uses statistical methods and predictive analytics to assist lenders in making well-informed decisions on lending, interest rate setting, and portfolio risk management. The goal is to enhance risk management strategies and optimize the allocation of resources in the lending process.\n",
    "\n",
    "On this data, there are many columns describe the details of the loan transaction in the lending company. The information we can get from the columns is such as loan amount, term of the loan, grade of the borrower, and many more. The latest transaction status can be accessed in `loan_status` column which will be the target of the model we will develop. This model aims to predict whether borrowers will be likely to be able to repay the loans they apply for or will default. From this perspective, we can get the analytical approach questions for end-to-end credit risk modeling like:\n",
    "- How do you approach data cleaning and preprocessing for credit risk modeling?\n",
    "- What are the important variables you would consider in a credit risk dataset, and how would you deal with missing data?\n",
    "- How would you address the class imbalance in the dataset when selecting a credit risk model?\n",
    "- How do you compare the pros and cons of the machine learning models you will use for the credit risk modeling?"
   ]
  },
  {
   "cell_type": "code",
   "execution_count": 1,
   "id": "50ee1a65",
   "metadata": {},
   "outputs": [],
   "source": [
    "import pandas as pd\n",
    "import numpy as np\n",
    "import seaborn as sns\n",
    "import seaborn.objects as so\n",
    "import matplotlib.pyplot as plt\n",
    "\n",
    "from sklearn.metrics import (\n",
    "    accuracy_score, confusion_matrix, roc_auc_score, roc_curve, ConfusionMatrixDisplay, RocCurveDisplay\n",
    ")\n",
    "from sklearn.preprocessing import LabelEncoder, OneHotEncoder, MinMaxScaler\n",
    "from sklearn.compose import ColumnTransformer, make_column_transformer\n",
    "from sklearn.model_selection import train_test_split\n",
    "from sklearn.ensemble import RandomForestClassifier\n",
    "import tensorflow as tf\n",
    "from xgboost import XGBClassifier"
   ]
  },
  {
   "cell_type": "code",
   "execution_count": 2,
   "id": "8b024267",
   "metadata": {
    "scrolled": true
   },
   "outputs": [],
   "source": [
    "df = pd.read_csv(\"loan_data_2007_2014.csv\", low_memory = False)"
   ]
  },
  {
   "cell_type": "markdown",
   "id": "10440c4f",
   "metadata": {},
   "source": [
    "## Data & Business Understanding\n",
    "In this section, we will understand the variables contained in the available data by understanding the context of these variables from the data dictionary. After that, we will also try to understand the business processes of lending companies, especially the loan application operation until repayment. Understanding business processes is needed to align them with available data. In this way, we can determine the variables that are relevant to the objectives of the model to be developed. The following is the business process flow for applying for a loan in general.\n",
    "<img align =\"middle\" width=750 height=525 src=\"https://www.researchgate.net/profile/Sarandis-Mitropoulos/publication/341152094/figure/fig2/AS:1024709135196160@1621321104415/The-flowchart-of-the-proposed-digital-loan-cycle.jpg\">\n",
    "Source: https://www.researchgate.net/publication/341152094_An_integrated_approach_for_the_banking_intranetextranet_information_systems_the_interoperability_case\n",
    "\n",
    "The loan application process begins with the Loan Application process. After that, the client will be checked whether it is registered or not. Loan Applications from registered Clients will proceed to the Application Assessment process. This process will determine whether the Loan Application will be Approved or Rejected. If we look at this process, this process is the objective of the Credit Risk Model that will be developed. Therefore, the data obtained from the Loan Application and Client will be used by the Credit Risk Model to determine whether the Client is most likely to be able to repay the loan or not.\n",
    "\n",
    "After the loan application has been assessed, the process will continue to Application Signing. If the Application Signing is approved by both parties, then the next process is Loan Disbursement. After this process, there will be a loan transaction process until the Client makes full repayment which is in the Loan Repayment process. This process will produce data related to the client's loan repayment processes. Of course, this data can only be obtained when the debt transaction process is underway with the Client. Therefore, using data from this process for Credit Risk Modeling is an inappropriate decision and may not be relevant. This is because the Credit Risk Model will be used in the previous process, specifically Loan Assessment."
   ]
  },
  {
   "cell_type": "code",
   "execution_count": 3,
   "id": "dd955f54",
   "metadata": {
    "scrolled": false
   },
   "outputs": [
    {
     "name": "stdout",
     "output_type": "stream",
     "text": [
      "<class 'pandas.core.frame.DataFrame'>\n",
      "RangeIndex: 466285 entries, 0 to 466284\n",
      "Data columns (total 75 columns):\n",
      " #   Column                       Non-Null Count   Dtype  \n",
      "---  ------                       --------------   -----  \n",
      " 0   Unnamed: 0                   466285 non-null  int64  \n",
      " 1   id                           466285 non-null  int64  \n",
      " 2   member_id                    466285 non-null  int64  \n",
      " 3   loan_amnt                    466285 non-null  int64  \n",
      " 4   funded_amnt                  466285 non-null  int64  \n",
      " 5   funded_amnt_inv              466285 non-null  float64\n",
      " 6   term                         466285 non-null  object \n",
      " 7   int_rate                     466285 non-null  float64\n",
      " 8   installment                  466285 non-null  float64\n",
      " 9   grade                        466285 non-null  object \n",
      " 10  sub_grade                    466285 non-null  object \n",
      " 11  emp_title                    438697 non-null  object \n",
      " 12  emp_length                   445277 non-null  object \n",
      " 13  home_ownership               466285 non-null  object \n",
      " 14  annual_inc                   466281 non-null  float64\n",
      " 15  verification_status          466285 non-null  object \n",
      " 16  issue_d                      466285 non-null  object \n",
      " 17  loan_status                  466285 non-null  object \n",
      " 18  pymnt_plan                   466285 non-null  object \n",
      " 19  url                          466285 non-null  object \n",
      " 20  desc                         125983 non-null  object \n",
      " 21  purpose                      466285 non-null  object \n",
      " 22  title                        466265 non-null  object \n",
      " 23  zip_code                     466285 non-null  object \n",
      " 24  addr_state                   466285 non-null  object \n",
      " 25  dti                          466285 non-null  float64\n",
      " 26  delinq_2yrs                  466256 non-null  float64\n",
      " 27  earliest_cr_line             466256 non-null  object \n",
      " 28  inq_last_6mths               466256 non-null  float64\n",
      " 29  mths_since_last_delinq       215934 non-null  float64\n",
      " 30  mths_since_last_record       62638 non-null   float64\n",
      " 31  open_acc                     466256 non-null  float64\n",
      " 32  pub_rec                      466256 non-null  float64\n",
      " 33  revol_bal                    466285 non-null  int64  \n",
      " 34  revol_util                   465945 non-null  float64\n",
      " 35  total_acc                    466256 non-null  float64\n",
      " 36  initial_list_status          466285 non-null  object \n",
      " 37  out_prncp                    466285 non-null  float64\n",
      " 38  out_prncp_inv                466285 non-null  float64\n",
      " 39  total_pymnt                  466285 non-null  float64\n",
      " 40  total_pymnt_inv              466285 non-null  float64\n",
      " 41  total_rec_prncp              466285 non-null  float64\n",
      " 42  total_rec_int                466285 non-null  float64\n",
      " 43  total_rec_late_fee           466285 non-null  float64\n",
      " 44  recoveries                   466285 non-null  float64\n",
      " 45  collection_recovery_fee      466285 non-null  float64\n",
      " 46  last_pymnt_d                 465909 non-null  object \n",
      " 47  last_pymnt_amnt              466285 non-null  float64\n",
      " 48  next_pymnt_d                 239071 non-null  object \n",
      " 49  last_credit_pull_d           466243 non-null  object \n",
      " 50  collections_12_mths_ex_med   466140 non-null  float64\n",
      " 51  mths_since_last_major_derog  98974 non-null   float64\n",
      " 52  policy_code                  466285 non-null  int64  \n",
      " 53  application_type             466285 non-null  object \n",
      " 54  annual_inc_joint             0 non-null       float64\n",
      " 55  dti_joint                    0 non-null       float64\n",
      " 56  verification_status_joint    0 non-null       float64\n",
      " 57  acc_now_delinq               466256 non-null  float64\n",
      " 58  tot_coll_amt                 396009 non-null  float64\n",
      " 59  tot_cur_bal                  396009 non-null  float64\n",
      " 60  open_acc_6m                  0 non-null       float64\n",
      " 61  open_il_6m                   0 non-null       float64\n",
      " 62  open_il_12m                  0 non-null       float64\n",
      " 63  open_il_24m                  0 non-null       float64\n",
      " 64  mths_since_rcnt_il           0 non-null       float64\n",
      " 65  total_bal_il                 0 non-null       float64\n",
      " 66  il_util                      0 non-null       float64\n",
      " 67  open_rv_12m                  0 non-null       float64\n",
      " 68  open_rv_24m                  0 non-null       float64\n",
      " 69  max_bal_bc                   0 non-null       float64\n",
      " 70  all_util                     0 non-null       float64\n",
      " 71  total_rev_hi_lim             396009 non-null  float64\n",
      " 72  inq_fi                       0 non-null       float64\n",
      " 73  total_cu_tl                  0 non-null       float64\n",
      " 74  inq_last_12m                 0 non-null       float64\n",
      "dtypes: float64(46), int64(7), object(22)\n",
      "memory usage: 266.8+ MB\n"
     ]
    }
   ],
   "source": [
    "df.info()"
   ]
  },
  {
   "cell_type": "markdown",
   "id": "4b6ce41d",
   "metadata": {},
   "source": [
    "As we can see in the structure of the data above, there a columns that only have NaN value. We don't need that columns for analysis or modeling so we can drop that column.\n",
    "- Remove index column\n",
    "- Remove column that only have NaN/missing values"
   ]
  },
  {
   "cell_type": "code",
   "execution_count": 4,
   "id": "86990f30",
   "metadata": {},
   "outputs": [],
   "source": [
    "df = df.drop(columns = ['Unnamed: 0'])\n",
    "df = df.dropna(axis=1, how='all')"
   ]
  },
  {
   "cell_type": "markdown",
   "id": "d5668814",
   "metadata": {},
   "source": [
    "### Data Dictionary\n",
    "Below is a data dictionary of this lending data which can help us to understand the context of each variable in the data. There are several variables that may be obtained in the Loan Repayment process. These variables are highlighted in bold along with other irrelevant variables such as id, member_id, and url.\n",
    "\n",
    "| LoanStatNew                 | Description                                                                                                                                                                                                        |\n",
    "| :-------------------------- | :----------------------------------------------------------------------------------------------------------------------------------------------------------------------------------------------------------------- |\n",
    "| **id**                          | A unique LC assigned ID for the loan listing.                                                                                                                                                                      |\n",
    "| **member_id**                   | A unique LC assigned Id for the borrower member.                                                                                                                                                                   |\n",
    "| loan_amnt                   | The listed amount of the loan applied for by the borrower. If at some point in time, the credit department reduces the loan amount, then it will be reflected in this value.                                       |\n",
    "| funded_amnt                 | The total amount committed to that loan at that point in time.                                                                                                                                                     |\n",
    "| funded_amnt_inv             | The total amount committed by investors for that loan at that point in time.                                                                                                                                       |\n",
    "| term                        | The number of payments on the loan. Values are in months and can be either 36 or 60.                                                                                                                               |\n",
    "| int_rate                    | Interest Rate on the loan                                                                                                                                                                                          |\n",
    "| installment                 | The monthly payment owed by the borrower if the loan originates.                                                                                                                                                   |\n",
    "| grade                       | LC assigned loan grade                                                                                                                                                                                             |\n",
    "| sub_grade                   | LC assigned loan subgrade                                                                                                                                                                                          |\n",
    "| emp_title                   | The job title supplied by the Borrower when applying for the loan.\\*                                                                                                                                               |\n",
    "| emp_length                  | Employment length in years. Possible values are between 0 and 10 where 0 means less than one year and 10 means ten or more years.                                                                                  |\n",
    "| home_ownership              | The home ownership status provided by the borrower during registration. Our values are: RENT, OWN, MORTGAGE, OTHER.                                                                                                |\n",
    "| annual_inc                  | The self-reported annual income provided by the borrower during registration.                                                                                                                                      |\n",
    "| verification_status         | Indicates if income was verified by LC, not verified, or if the income source was verified                                                                                                                         |\n",
    "| **issue_d**                     | The month which the loan was funded                                                                                                                                                                                |\n",
    "| loan_status                 | Current status of the loan                                                                                                                                                                                         |\n",
    "| pymnt_plan                  | Indicates if a payment plan has been put in place for the loan                                                                                                                                                     |\n",
    "| **url**                         | URL for the LC page with listing data.                                                                                                                                                                             |\n",
    "| desc                        | Loan description provided by the borrower                                                                                                                                                                          |\n",
    "| purpose                     | A category provided by the borrower for the loan request.                                                                                                                                                          |\n",
    "| title                       | The loan title provided by the borrower                                                                                                                                                                            |\n",
    "| zip_code                    | The first 3 numbers of the zip code provided by the borrower in the loan application.                                                                                                                              |\n",
    "| addr_state                  | The state provided by the borrower in the loan application                                                                                                                                                         |\n",
    "| dti                         | A ratio calculated using the borrower's total monthly debt payments on the total debt obligations, excluding mortgage and the requested LC loan, divided by the borrower's self-reported monthly income.           |\n",
    "| **delinq_2yrs**                 | The number of 30+ days past-due incidences of delinquency in the borrower's credit file for the past 2 years                                                                                                       |\n",
    "| earliest_cr_line            | The month the borrower's earliest reported credit line was opened                                                                                                                                                  |\n",
    "| **inq_last_6mths**              | The number of inquiries in past 6 months (excluding auto and mortgage inquiries)                                                                                                                                   |\n",
    "| **mths_since_last_delinq**      | The number of months since the borrower's last delinquency.                                                                                                                                                        |\n",
    "| **mths_since_last_record**      | The number of months since the last public record.                                                                                                                                                                 |\n",
    "| open_acc                    | The number of open credit lines in the borrower's credit file.                                                                                                                                                     |\n",
    "| pub_rec                     | Number of derogatory public records                                                                                                                                                                                |\n",
    "| revol_bal                   | Total credit revolving balance                                                                                                                                                                                     |\n",
    "| revol_util                  | Revolving line utilization rate, or the amount of credit the borrower is using relative to all available revolving credit.                                                                                         |\n",
    "| total_acc                   | The total number of credit lines currently in the borrower's credit file                                                                                                                                           |\n",
    "| initial_list_status         | The initial listing status of the loan. Possible values are – Whole, Fractional                                                                                                                                    |\n",
    "| **out_prncp**                   | Remaining outstanding principal for total amount funded                                                                                                                                                            |\n",
    "| **out_prncp_inv**               | Remaining outstanding principal for portion of total amount funded by investors                                                                                                                                    |\n",
    "| **total_pymnt**                 | Payments received to date for total amount funded                                                                                                                                                                  |\n",
    "| **total_pymnt_inv**             | Payments received to date for portion of total amount funded by investors                                                                                                                                          |\n",
    "| **total_rec_prncp**             | Principal received to date                                                                                                                                                                                         |\n",
    "| **total_rec_int**               | Interest received to date                                                                                                                                                                                          |\n",
    "| **total_rec_late_fee**          | Late fees received to date                                                                                                                                                                                         |\n",
    "| **recoveries**                  | post charge off gross recovery                                                                                                                                                                                     |\n",
    "| **collection_recovery_fee**     | post charge off collection fee                                                                                                                                                                                     |\n",
    "| **last_pymnt_d**                | Last month payment was received                                                                                                                                                                                    |\n",
    "| **last_pymnt_amnt**             | Last total payment amount received                                                                                                                                                                                 |\n",
    "| **next_pymnt_d**                | Next scheduled payment date                                                                                                                                                                                        |\n",
    "| **last_credit_pull_d**          | The most recent month LC pulled credit for this loan                                                                                                                                                               |\n",
    "| **collections_12_mths_ex_med**  | Number of collections in 12 months excluding medical collections                                                                                                                                                   |\n",
    "| **mths_since_last_major_derog** | Months since most recent 90-day or worse rating                                                                                                                                                                    |\n",
    "| policy_code                 | publicly available policy_code=1 new products not publicly available policy_code=2                                                                                                                                 |\n",
    "| application_type            | Indicates whether the loan is an individual application or a joint application with two co-borrower's                                                                                                              |\n",
    "| acc_now_delinq              | The number of accounts on which the borrower is now delinquent.                                                                                                                                                    |\n",
    "| **tot_coll_amt**                | Total collection amounts ever owed                                                                                                                                                                                 |\n",
    "| **tot_cur_bal**                 | Total current balance of all accounts                                                                                                                                                                              |\n",
    "| **total_rev_hi_lim**            | Total revolving high credit/credit limit                                                                                                                                                                           |"
   ]
  },
  {
   "cell_type": "code",
   "execution_count": 5,
   "id": "b42a1701",
   "metadata": {},
   "outputs": [],
   "source": [
    "irrelevant_features = ['id', 'member_id', 'issue_d', 'url', 'delinq_2yrs', 'inq_last_6mths', 'mths_since_last_delinq', 'mths_since_last_record',\n",
    "                       'out_prncp', 'out_prncp_inv', 'total_pymnt', 'total_pymnt_inv', 'total_rec_prncp', 'total_rec_int',\n",
    "                       'total_rec_late_fee', 'recoveries', 'collection_recovery_fee', 'last_pymnt_d',\n",
    "                       'last_pymnt_amnt', 'next_pymnt_d', 'last_credit_pull_d', 'collections_12_mths_ex_med',\n",
    "                       'mths_since_last_major_derog', 'tot_coll_amt', 'tot_cur_bal', 'total_rev_hi_lim']\n",
    "df = df.drop(irrelevant_features, axis=1)"
   ]
  },
  {
   "cell_type": "markdown",
   "id": "9e5b973e",
   "metadata": {},
   "source": [
    "## Exploratory Data Analysis\n",
    "Aim to understand the general pattern of data such as shape of data, variables or feature, and type of data using descriptive analytics and data visualization. Exploratory Data Analysis can be started by analyzing the target of this model, namely loan status and relationships with other variables. After that, we can also analyze the relationship between variables in the dataset.\n",
    "#### Loan Status (Target)"
   ]
  },
  {
   "cell_type": "code",
   "execution_count": 6,
   "id": "ea87c874",
   "metadata": {},
   "outputs": [
    {
     "data": {
      "text/plain": [
       "Current                                                224226\n",
       "Fully Paid                                             184739\n",
       "Charged Off                                             42475\n",
       "Late (31-120 days)                                       6900\n",
       "In Grace Period                                          3146\n",
       "Does not meet the credit policy. Status:Fully Paid       1988\n",
       "Late (16-30 days)                                        1218\n",
       "Default                                                   832\n",
       "Does not meet the credit policy. Status:Charged Off       761\n",
       "Name: loan_status, dtype: int64"
      ]
     },
     "execution_count": 6,
     "metadata": {},
     "output_type": "execute_result"
    }
   ],
   "source": [
    "df['loan_status'].value_counts()"
   ]
  },
  {
   "cell_type": "markdown",
   "id": "3d7a7b6c",
   "metadata": {},
   "source": [
    "In the `loan_status` column, there are several loan statuses which generally consist of Fully Paid, Late, Default, In Grace Period, and Does not meet the credit policy."
   ]
  },
  {
   "cell_type": "code",
   "execution_count": 7,
   "id": "458b612f",
   "metadata": {},
   "outputs": [],
   "source": [
    "target_classes = ['Fully Paid', 'Charged Off', 'Default']\n",
    "df = df[df['loan_status'].isin(target_classes)]"
   ]
  },
  {
   "cell_type": "code",
   "execution_count": 8,
   "id": "90095b8a",
   "metadata": {},
   "outputs": [
    {
     "data": {
      "text/plain": [
       "([0, 1, 2], [Text(0, 0, ''), Text(0, 0, ''), Text(0, 0, '')])"
      ]
     },
     "execution_count": 8,
     "metadata": {},
     "output_type": "execute_result"
    },
    {
     "data": {
      "image/png": "[encoded data removed]",
      "text/plain": [
       "<Figure size 432x288 with 1 Axes>"
      ]
     },
     "metadata": {
      "needs_background": "light"
     },
     "output_type": "display_data"
    }
   ],
   "source": [
    "count_plot = sns.countplot(df, x='loan_status', hue='loan_status')\n",
    "plt.xticks(rotation=45, horizontalalignment='right')"
   ]
  },
  {
   "cell_type": "markdown",
   "id": "58d4b02e",
   "metadata": {},
   "source": [
    "The `Charged Off` and `Default` class are actually the same situation. We can combine the `Default` and `Charged Off` classes into `Charged Off`"
   ]
  },
  {
   "cell_type": "code",
   "execution_count": 9,
   "id": "7494a0b7",
   "metadata": {},
   "outputs": [
    {
     "data": {
      "image/png": "[encoded data removed]",
      "text/plain": [
       "<Figure size 432x288 with 1 Axes>"
      ]
     },
     "metadata": {
      "needs_background": "light"
     },
     "output_type": "display_data"
    }
   ],
   "source": [
    "df['loan_status'] = np.where(df['loan_status'] == \"Default\", \"Charged Off\",\n",
    "                             df['loan_status'])\n",
    "count_plot = sns.countplot(df, x='loan_status', hue='loan_status')"
   ]
  },
  {
   "cell_type": "markdown",
   "id": "b148c1e6",
   "metadata": {},
   "source": [
    "### Numeric Variables\n",
    "To analyze numerical variables, we can carry out correlation analysis to see whether there are redundant variables or not. We can also see whether there are variables that are correlated with other variables so that they are not independent."
   ]
  },
  {
   "cell_type": "code",
   "execution_count": 10,
   "id": "e2885cbb",
   "metadata": {},
   "outputs": [
    {
     "data": {
      "text/plain": [
       "<AxesSubplot:>"
      ]
     },
     "execution_count": 10,
     "metadata": {},
     "output_type": "execute_result"
    },
    {
     "data": {
      "image/png": "[encoded data removed]",
      "text/plain": [
       "<Figure size 1440x720 with 2 Axes>"
      ]
     },
     "metadata": {
      "needs_background": "light"
     },
     "output_type": "display_data"
    }
   ],
   "source": [
    "plt.subplots(figsize=(20,10))\n",
    "sns.heatmap(df.corr(), vmin=-1, vmax=1, annot=True)"
   ]
  },
  {
   "cell_type": "markdown",
   "id": "ec75a3fd",
   "metadata": {},
   "source": [
    "We can see that the variables `loan_amnt`, `funded_amnt`, and `funded_amnt_inv` have perfect correlation values. This clearly indicates that these variables are redundant. We can just use the `loan_amnt` variable because based on the available data dictionary, if there is a change in the loan amount it will be reflected in this variable. Apart from that, there are also variables that only have one value in them, namely `policy_code`, this causes this variable to be irrelevant in having a correlation with other variables."
   ]
  },
  {
   "cell_type": "code",
   "execution_count": 11,
   "id": "1160da43",
   "metadata": {},
   "outputs": [],
   "source": [
    "df = df.drop(['funded_amnt', 'funded_amnt_inv', 'policy_code'], axis=1)"
   ]
  },
  {
   "cell_type": "markdown",
   "id": "59e223e3",
   "metadata": {},
   "source": [
    "Furthermore, there are variables that have a fairly high correlation, namely `loan_amnt` with `installment`. We will explore these variables to see if there is duplicate information in them and their correlation with the target variable.\n",
    "#### loan_amnt and installment\n",
    "- loan_amnt: The listed amount of the loan applied for by the borrower. If at some point in time, the credit department reduces the loan amount, then it will be reflected in this value.\n",
    "- installment: The monthly payment owed by the borrower if the loan originates."
   ]
  },
  {
   "cell_type": "code",
   "execution_count": 12,
   "id": "5c9ad5d9",
   "metadata": {},
   "outputs": [
    {
     "data": {
      "text/plain": [
       "<AxesSubplot:xlabel='loan_status', ylabel='installment'>"
      ]
     },
     "execution_count": 12,
     "metadata": {},
     "output_type": "execute_result"
    },
    {
     "data": {
      "image/png": "[encoded data removed]",
      "text/plain": [
       "<Figure size 720x360 with 2 Axes>"
      ]
     },
     "metadata": {
      "needs_background": "light"
     },
     "output_type": "display_data"
    }
   ],
   "source": [
    "fig, axs = plt.subplots(ncols=2, figsize=(10,5))\n",
    "sns.boxplot(x='loan_status',y='loan_amnt', data=df, ax=axs[0])\n",
    "sns.boxplot(x='loan_status',y='installment', data=df, ax=axs[1])"
   ]
  },
  {
   "cell_type": "code",
   "execution_count": 13,
   "id": "1dec75e3",
   "metadata": {},
   "outputs": [
    {
     "data": {
      "text/plain": [
       "<AxesSubplot:xlabel='installment', ylabel='Count'>"
      ]
     },
     "execution_count": 13,
     "metadata": {},
     "output_type": "execute_result"
    },
    {
     "data": {
      "image/png": "[encoded data removed]",
      "text/plain": [
       "<Figure size 1080x360 with 2 Axes>"
      ]
     },
     "metadata": {
      "needs_background": "light"
     },
     "output_type": "display_data"
    }
   ],
   "source": [
    "fig, axs = plt.subplots(ncols=2, figsize=(15,5))\n",
    "sns.histplot(data=df, x=\"loan_amnt\", hue=\"loan_status\", bins=11, ax=axs[0])\n",
    "sns.histplot(data=df, x=\"installment\", hue=\"loan_status\", bins=50, ax=axs[1])"
   ]
  },
  {
   "cell_type": "markdown",
   "id": "f0cc100b",
   "metadata": {},
   "source": [
    "If we look at the distribution of these two variables, it does not appear that there is redundant information because `installment` is information on the amount that must be paid by the client each month based on `loan_amnt`, `term`, and `int_rate`. So, we can still use these two variables so that the model has good interpretability since `installment` is related to loan characteristics. This variable can also be a consideration for experimenting with the model if the model results are less than satisfactory."
   ]
  },
  {
   "cell_type": "markdown",
   "id": "fd6e0922",
   "metadata": {},
   "source": [
    "### Categorical Variables"
   ]
  },
  {
   "cell_type": "code",
   "execution_count": 14,
   "id": "f6526b11",
   "metadata": {},
   "outputs": [
    {
     "data": {
      "text/plain": [
       "term                        2\n",
       "grade                       7\n",
       "sub_grade                  35\n",
       "emp_title              125310\n",
       "emp_length                 11\n",
       "home_ownership              6\n",
       "verification_status         3\n",
       "loan_status                 2\n",
       "pymnt_plan                  2\n",
       "desc                    87760\n",
       "purpose                    14\n",
       "title                   47943\n",
       "zip_code                  870\n",
       "addr_state                 50\n",
       "earliest_cr_line          633\n",
       "initial_list_status         2\n",
       "application_type            1\n",
       "dtype: int64"
      ]
     },
     "execution_count": 14,
     "metadata": {},
     "output_type": "execute_result"
    }
   ],
   "source": [
    "df.select_dtypes(include=object).nunique()"
   ]
  },
  {
   "cell_type": "code",
   "execution_count": 15,
   "id": "3df4433d",
   "metadata": {},
   "outputs": [],
   "source": [
    "# drop application_type because only have one unique value\n",
    "df = df.drop(['application_type'], axis=1)"
   ]
  },
  {
   "cell_type": "markdown",
   "id": "50265c66",
   "metadata": {},
   "source": [
    "#### emp_title\n",
    "We can see that the `emp_title` variable has a lot of unique values. Too many categories can cause confusion when model doing the training."
   ]
  },
  {
   "cell_type": "code",
   "execution_count": 16,
   "id": "6f88df1c",
   "metadata": {},
   "outputs": [
    {
     "data": {
      "text/plain": [
       "0                       NaN\n",
       "1                     Ryder\n",
       "2                       NaN\n",
       "3       AIR RESOURCES BOARD\n",
       "5      Veolia Transportaton\n",
       "7           MKC Accounting \n",
       "8                       NaN\n",
       "9                 Starbucks\n",
       "10    Southwest Rural metro\n",
       "11                     UCLA\n",
       "Name: emp_title, dtype: object"
      ]
     },
     "execution_count": 16,
     "metadata": {},
     "output_type": "execute_result"
    }
   ],
   "source": [
    "df['emp_title'].head(10)"
   ]
  },
  {
   "cell_type": "code",
   "execution_count": 17,
   "id": "83512e0f",
   "metadata": {},
   "outputs": [
    {
     "data": {
      "text/plain": [
       "12758"
      ]
     },
     "execution_count": 17,
     "metadata": {},
     "output_type": "execute_result"
    }
   ],
   "source": [
    "df['emp_title'].isna().sum()"
   ]
  },
  {
   "cell_type": "code",
   "execution_count": 18,
   "id": "dcc42757",
   "metadata": {},
   "outputs": [],
   "source": [
    "df = df.drop(['emp_title'], axis=1)"
   ]
  },
  {
   "cell_type": "markdown",
   "id": "c79bd57b",
   "metadata": {},
   "source": [
    "#### desc, purpose, and title"
   ]
  },
  {
   "cell_type": "code",
   "execution_count": 19,
   "id": "6331aaed",
   "metadata": {},
   "outputs": [
    {
     "data": {
      "text/html": [
       "<div>\n",
       "<style scoped>\n",
       "    .dataframe tbody tr th:only-of-type {\n",
       "        vertical-align: middle;\n",
       "    }\n",
       "\n",
       "    .dataframe tbody tr th {\n",
       "        vertical-align: top;\n",
       "    }\n",
       "\n",
       "    .dataframe thead th {\n",
       "        text-align: right;\n",
       "    }\n",
       "</style>\n",
       "<table border=\"1\" class=\"dataframe\">\n",
       "  <thead>\n",
       "    <tr style=\"text-align: right;\">\n",
       "      <th></th>\n",
       "      <th>desc</th>\n",
       "      <th>purpose</th>\n",
       "      <th>title</th>\n",
       "    </tr>\n",
       "  </thead>\n",
       "  <tbody>\n",
       "    <tr>\n",
       "      <th>0</th>\n",
       "      <td>Borrower added on 12/22/11 &gt; I need to upgra...</td>\n",
       "      <td>credit_card</td>\n",
       "      <td>Computer</td>\n",
       "    </tr>\n",
       "    <tr>\n",
       "      <th>1</th>\n",
       "      <td>Borrower added on 12/22/11 &gt; I plan to use t...</td>\n",
       "      <td>car</td>\n",
       "      <td>bike</td>\n",
       "    </tr>\n",
       "    <tr>\n",
       "      <th>2</th>\n",
       "      <td>NaN</td>\n",
       "      <td>small_business</td>\n",
       "      <td>real estate business</td>\n",
       "    </tr>\n",
       "    <tr>\n",
       "      <th>3</th>\n",
       "      <td>Borrower added on 12/21/11 &gt; to pay for prop...</td>\n",
       "      <td>other</td>\n",
       "      <td>personel</td>\n",
       "    </tr>\n",
       "    <tr>\n",
       "      <th>5</th>\n",
       "      <td>NaN</td>\n",
       "      <td>wedding</td>\n",
       "      <td>My wedding loan I promise to pay back</td>\n",
       "    </tr>\n",
       "    <tr>\n",
       "      <th>7</th>\n",
       "      <td>Borrower added on 12/16/11 &gt; Downpayment for...</td>\n",
       "      <td>car</td>\n",
       "      <td>Car Downpayment</td>\n",
       "    </tr>\n",
       "    <tr>\n",
       "      <th>8</th>\n",
       "      <td>Borrower added on 12/21/11 &gt; I own a small h...</td>\n",
       "      <td>small_business</td>\n",
       "      <td>Expand Business &amp; Buy Debt Portfolio</td>\n",
       "    </tr>\n",
       "    <tr>\n",
       "      <th>9</th>\n",
       "      <td>Borrower added on 12/16/11 &gt; I'm trying to b...</td>\n",
       "      <td>other</td>\n",
       "      <td>Building my credit history.</td>\n",
       "    </tr>\n",
       "    <tr>\n",
       "      <th>10</th>\n",
       "      <td>Borrower added on 12/15/11 &gt; I had recived a...</td>\n",
       "      <td>debt_consolidation</td>\n",
       "      <td>High intrest Consolidation</td>\n",
       "    </tr>\n",
       "    <tr>\n",
       "      <th>11</th>\n",
       "      <td>NaN</td>\n",
       "      <td>debt_consolidation</td>\n",
       "      <td>Consolidation</td>\n",
       "    </tr>\n",
       "  </tbody>\n",
       "</table>\n",
       "</div>"
      ],
      "text/plain": [
       "                                                 desc             purpose  \\\n",
       "0     Borrower added on 12/22/11 > I need to upgra...         credit_card   \n",
       "1     Borrower added on 12/22/11 > I plan to use t...                 car   \n",
       "2                                                 NaN      small_business   \n",
       "3     Borrower added on 12/21/11 > to pay for prop...               other   \n",
       "5                                                 NaN             wedding   \n",
       "7     Borrower added on 12/16/11 > Downpayment for...                 car   \n",
       "8     Borrower added on 12/21/11 > I own a small h...      small_business   \n",
       "9     Borrower added on 12/16/11 > I'm trying to b...               other   \n",
       "10    Borrower added on 12/15/11 > I had recived a...  debt_consolidation   \n",
       "11                                                NaN  debt_consolidation   \n",
       "\n",
       "                                    title  \n",
       "0                                Computer  \n",
       "1                                    bike  \n",
       "2                    real estate business  \n",
       "3                                personel  \n",
       "5   My wedding loan I promise to pay back  \n",
       "7                         Car Downpayment  \n",
       "8    Expand Business & Buy Debt Portfolio  \n",
       "9             Building my credit history.  \n",
       "10             High intrest Consolidation  \n",
       "11                          Consolidation  "
      ]
     },
     "execution_count": 19,
     "metadata": {},
     "output_type": "execute_result"
    }
   ],
   "source": [
    "df[['desc', 'purpose', 'title']].head(10)"
   ]
  },
  {
   "cell_type": "markdown",
   "id": "08bbd3a8",
   "metadata": {},
   "source": [
    "If we look at the `desc` feature, there is quite a large proportion of descriptions that are blank. So we will try to extract this feature into is `desc` have NaN value."
   ]
  },
  {
   "cell_type": "code",
   "execution_count": 20,
   "id": "c01af8e9",
   "metadata": {},
   "outputs": [],
   "source": [
    "df['desc_is_na'] = df['desc'].isna()"
   ]
  },
  {
   "cell_type": "code",
   "execution_count": 21,
   "id": "51d1afc7",
   "metadata": {},
   "outputs": [
    {
     "data": {
      "text/plain": [
       "<AxesSubplot:xlabel='desc_is_na'>"
      ]
     },
     "execution_count": 21,
     "metadata": {},
     "output_type": "execute_result"
    },
    {
     "data": {
      "image/png": "[encoded data removed]",
      "text/plain": [
       "<Figure size 1080x360 with 2 Axes>"
      ]
     },
     "metadata": {
      "needs_background": "light"
     },
     "output_type": "display_data"
    }
   ],
   "source": [
    "fig, axs = plt.subplots(ncols=2, figsize=(15,5))\n",
    "sns.countplot(df, x='desc_is_na', hue='loan_status', ax=axs[0])\n",
    "df.groupby('desc_is_na')['loan_status'].value_counts(normalize=True).unstack('loan_status').plot.bar(stacked=True, ax=axs[1])"
   ]
  },
  {
   "cell_type": "markdown",
   "id": "3c8bfc91",
   "metadata": {},
   "source": [
    "If you look at the 100% count plot above, the descriptions that filled have a slightly higher proportion of fully paid loan status. So we will extract the feature into `desc_is_na` and drop `desc`"
   ]
  },
  {
   "cell_type": "code",
   "execution_count": 22,
   "id": "0e2cace4",
   "metadata": {},
   "outputs": [],
   "source": [
    "df = df.drop('desc', axis=1)"
   ]
  },
  {
   "cell_type": "code",
   "execution_count": 23,
   "id": "a13b0767",
   "metadata": {},
   "outputs": [
    {
     "data": {
      "text/plain": [
       "title                    purpose           \n",
       "Debt consolidation       debt_consolidation    56184\n",
       "Credit card refinancing  credit_card           18339\n",
       "Debt Consolidation       debt_consolidation    10378\n",
       "Home improvement         home_improvement       4975\n",
       "Other                    other                  4602\n",
       "debt consolidation       debt_consolidation     3041\n",
       "Consolidation            debt_consolidation     3038\n",
       "Debt Consolidation Loan  debt_consolidation     2956\n",
       "Major purchase           major_purchase         1614\n",
       "Business                 small_business         1466\n",
       "dtype: int64"
      ]
     },
     "execution_count": 23,
     "metadata": {},
     "output_type": "execute_result"
    }
   ],
   "source": [
    "df[['title', 'purpose']].value_counts()[:10]"
   ]
  },
  {
   "cell_type": "markdown",
   "id": "2c822a15",
   "metadata": {},
   "source": [
    "If we look at the results of the value counts above, the `purpose` feature is definitely generated from the `title`. So the `title` is a redundant feature of features that have been summarized into `purpose`."
   ]
  },
  {
   "cell_type": "code",
   "execution_count": 24,
   "id": "a1238e45",
   "metadata": {},
   "outputs": [],
   "source": [
    "df = df.drop('title', axis=1)"
   ]
  },
  {
   "cell_type": "markdown",
   "id": "61bd110c",
   "metadata": {},
   "source": [
    "#### zip_code and addr_state"
   ]
  },
  {
   "cell_type": "code",
   "execution_count": 25,
   "id": "e29e82d1",
   "metadata": {},
   "outputs": [
    {
     "data": {
      "text/html": [
       "<div>\n",
       "<style scoped>\n",
       "    .dataframe tbody tr th:only-of-type {\n",
       "        vertical-align: middle;\n",
       "    }\n",
       "\n",
       "    .dataframe tbody tr th {\n",
       "        vertical-align: top;\n",
       "    }\n",
       "\n",
       "    .dataframe thead th {\n",
       "        text-align: right;\n",
       "    }\n",
       "</style>\n",
       "<table border=\"1\" class=\"dataframe\">\n",
       "  <thead>\n",
       "    <tr style=\"text-align: right;\">\n",
       "      <th></th>\n",
       "      <th>zip_code</th>\n",
       "      <th>addr_state</th>\n",
       "    </tr>\n",
       "  </thead>\n",
       "  <tbody>\n",
       "    <tr>\n",
       "      <th>0</th>\n",
       "      <td>860xx</td>\n",
       "      <td>AZ</td>\n",
       "    </tr>\n",
       "    <tr>\n",
       "      <th>1</th>\n",
       "      <td>309xx</td>\n",
       "      <td>GA</td>\n",
       "    </tr>\n",
       "    <tr>\n",
       "      <th>2</th>\n",
       "      <td>606xx</td>\n",
       "      <td>IL</td>\n",
       "    </tr>\n",
       "    <tr>\n",
       "      <th>3</th>\n",
       "      <td>917xx</td>\n",
       "      <td>CA</td>\n",
       "    </tr>\n",
       "    <tr>\n",
       "      <th>5</th>\n",
       "      <td>852xx</td>\n",
       "      <td>AZ</td>\n",
       "    </tr>\n",
       "  </tbody>\n",
       "</table>\n",
       "</div>"
      ],
      "text/plain": [
       "  zip_code addr_state\n",
       "0    860xx         AZ\n",
       "1    309xx         GA\n",
       "2    606xx         IL\n",
       "3    917xx         CA\n",
       "5    852xx         AZ"
      ]
     },
     "execution_count": 25,
     "metadata": {},
     "output_type": "execute_result"
    }
   ],
   "source": [
    "df[['zip_code', 'addr_state']].head(5)"
   ]
  },
  {
   "cell_type": "code",
   "execution_count": 26,
   "id": "afd7c40d",
   "metadata": {},
   "outputs": [
    {
     "data": {
      "text/plain": [
       "zip_code  addr_state\n",
       "945xx     CA            2958\n",
       "112xx     NY            2629\n",
       "750xx     TX            2503\n",
       "100xx     NY            2329\n",
       "900xx     CA            2270\n",
       "606xx     IL            2243\n",
       "331xx     FL            2066\n",
       "300xx     GA            2044\n",
       "070xx     NJ            2014\n",
       "917xx     CA            1901\n",
       "dtype: int64"
      ]
     },
     "execution_count": 26,
     "metadata": {},
     "output_type": "execute_result"
    }
   ],
   "source": [
    "df[['zip_code', 'addr_state']].value_counts()[:10]"
   ]
  },
  {
   "cell_type": "code",
   "execution_count": 27,
   "id": "a5a99eb9",
   "metadata": {},
   "outputs": [
    {
     "data": {
      "text/plain": [
       "<AxesSubplot:xlabel='addr_state'>"
      ]
     },
     "execution_count": 27,
     "metadata": {},
     "output_type": "execute_result"
    },
    {
     "data": {
      "image/png": "[encoded data removed]",
      "text/plain": [
       "<Figure size 432x288 with 1 Axes>"
      ]
     },
     "metadata": {
      "needs_background": "light"
     },
     "output_type": "display_data"
    }
   ],
   "source": [
    "top_20_state = ['CA', 'NY', 'TX', 'FL', 'NJ', 'IL', 'PA', 'VA', 'GA', 'OH',\n",
    "                'NC', 'MA', 'AZ', 'MD', 'MI', 'WA', 'CO', 'MN', 'MO', 'NV']\n",
    "df_plot = df[df['addr_state'].isin(top_20_state)]\n",
    "df_plot = df_plot.groupby(['loan_status', 'addr_state']).size().reset_index().pivot(columns='loan_status', index='addr_state', values=0)\n",
    "df_plot.loc[top_20_state].plot(kind='bar', stacked=True)"
   ]
  },
  {
   "cell_type": "markdown",
   "id": "6dae609f",
   "metadata": {},
   "source": [
    "We know that the first 3 numbers of the zip code represent the sectional center and state information is in the first group of numbers in the zip code. So there are redundant information between these variables, addr_state only specifies the state of the first 3 digits of the zip code."
   ]
  },
  {
   "cell_type": "code",
   "execution_count": 28,
   "id": "57878a2a",
   "metadata": {},
   "outputs": [],
   "source": [
    "df = df.drop('zip_code', axis=1)"
   ]
  },
  {
   "cell_type": "markdown",
   "id": "13c4a5eb",
   "metadata": {},
   "source": [
    "#### earliest_cr_line"
   ]
  },
  {
   "cell_type": "code",
   "execution_count": 29,
   "id": "4d0a7557",
   "metadata": {},
   "outputs": [
    {
     "data": {
      "text/plain": [
       "0     Jan-85\n",
       "1     Apr-99\n",
       "2     Nov-01\n",
       "3     Feb-96\n",
       "5     Nov-04\n",
       "7     Jan-07\n",
       "8     Apr-04\n",
       "9     Sep-04\n",
       "10    Jan-98\n",
       "11    Oct-89\n",
       "Name: earliest_cr_line, dtype: object"
      ]
     },
     "execution_count": 29,
     "metadata": {},
     "output_type": "execute_result"
    }
   ],
   "source": [
    "df['earliest_cr_line'].head(10)"
   ]
  },
  {
   "cell_type": "code",
   "execution_count": 30,
   "id": "f8a05b47",
   "metadata": {},
   "outputs": [
    {
     "data": {
      "text/plain": [
       "count                           228046\n",
       "mean     1998-03-07 18:37:13.633565184\n",
       "min                1969-01-01 00:00:00\n",
       "25%                1994-09-01 00:00:00\n",
       "50%                1999-05-01 00:00:00\n",
       "75%                2002-09-01 00:00:00\n",
       "max                2068-12-01 00:00:00\n",
       "Name: earliest_cr_line, dtype: object"
      ]
     },
     "execution_count": 30,
     "metadata": {},
     "output_type": "execute_result"
    }
   ],
   "source": [
    "df['earliest_cr_line'] = pd.to_datetime(df['earliest_cr_line'], format='%b-%y')\n",
    "df['earliest_cr_line'].describe(datetime_is_numeric=True)"
   ]
  },
  {
   "cell_type": "code",
   "execution_count": 31,
   "id": "7eac060c",
   "metadata": {},
   "outputs": [],
   "source": [
    "import datetime\n",
    "\n",
    "def fix_date(x):\n",
    "    if x.year > 2030:\n",
    "        year = x.year - 100\n",
    "    else:\n",
    "        year = x.year\n",
    "    return datetime.date(year,x.month,x.day)\n",
    "\n",
    "df['earliest_cr_line'] = df['earliest_cr_line'].apply(fix_date)"
   ]
  },
  {
   "cell_type": "code",
   "execution_count": 32,
   "id": "90fb2f5b",
   "metadata": {},
   "outputs": [],
   "source": [
    "df['earliest_cr_line'] = pd.to_datetime(df['earliest_cr_line'])"
   ]
  },
  {
   "cell_type": "code",
   "execution_count": 33,
   "id": "cb1c3a33",
   "metadata": {},
   "outputs": [
    {
     "data": {
      "text/plain": [
       "count                           228046\n",
       "mean     1997-12-18 23:23:29.368285568\n",
       "min                1946-01-01 00:00:00\n",
       "25%                1994-08-01 00:00:00\n",
       "50%                1999-05-01 00:00:00\n",
       "75%                2002-09-01 00:00:00\n",
       "max                2011-11-01 00:00:00\n",
       "Name: earliest_cr_line, dtype: object"
      ]
     },
     "execution_count": 33,
     "metadata": {},
     "output_type": "execute_result"
    }
   ],
   "source": [
    "df['earliest_cr_line'].describe(datetime_is_numeric=True)"
   ]
  },
  {
   "cell_type": "code",
   "execution_count": 34,
   "id": "898e1bf2",
   "metadata": {},
   "outputs": [
    {
     "data": {
      "text/plain": [
       "<AxesSubplot:xlabel='earliest_cr_line', ylabel='Count'>"
      ]
     },
     "execution_count": 34,
     "metadata": {},
     "output_type": "execute_result"
    },
    {
     "data": {
      "image/png": "[encoded data removed]",
      "text/plain": [
       "<Figure size 432x288 with 1 Axes>"
      ]
     },
     "metadata": {
      "needs_background": "light"
     },
     "output_type": "display_data"
    }
   ],
   "source": [
    "sns.histplot(data=df, x=\"earliest_cr_line\", hue=\"loan_status\", bins=61)"
   ]
  },
  {
   "cell_type": "code",
   "execution_count": 35,
   "id": "7f032336",
   "metadata": {},
   "outputs": [],
   "source": [
    "df['earliest_cr_line'] = pd.DatetimeIndex(df['earliest_cr_line']).year"
   ]
  },
  {
   "cell_type": "markdown",
   "id": "a7291623",
   "metadata": {},
   "source": [
    "#### grade and sub_grade"
   ]
  },
  {
   "cell_type": "code",
   "execution_count": 36,
   "id": "ddc2a666",
   "metadata": {},
   "outputs": [
    {
     "name": "stdout",
     "output_type": "stream",
     "text": [
      "['B' 'C' 'A' 'E' 'F' 'D' 'G']\n",
      "['B2' 'C4' 'C5' 'C1' 'A4' 'E1' 'F2' 'B5' 'C3' 'B1' 'D1' 'A1' 'B3' 'B4'\n",
      " 'C2' 'D2' 'A3' 'A5' 'D5' 'A2' 'E4' 'D3' 'D4' 'F3' 'E3' 'F1' 'E5' 'G4'\n",
      " 'E2' 'G2' 'G1' 'F5' 'F4' 'G5' 'G3']\n"
     ]
    }
   ],
   "source": [
    "print(df['grade'].unique())\n",
    "print(df['sub_grade'].unique())"
   ]
  },
  {
   "cell_type": "code",
   "execution_count": 37,
   "id": "7d6ee83a",
   "metadata": {},
   "outputs": [
    {
     "data": {
      "text/plain": [
       "<AxesSubplot:xlabel='sub_grade'>"
      ]
     },
     "execution_count": 37,
     "metadata": {},
     "output_type": "execute_result"
    },
    {
     "data": {
      "image/png": "[encoded data removed]",
      "text/plain": [
       "<Figure size 1080x360 with 2 Axes>"
      ]
     },
     "metadata": {
      "needs_background": "light"
     },
     "output_type": "display_data"
    }
   ],
   "source": [
    "fig, axs = plt.subplots(ncols=2, figsize=(15,5))\n",
    "pd.crosstab(df['grade'], df['loan_status']).plot(kind='bar', ax=axs[0])\n",
    "pd.crosstab(df['sub_grade'], df['loan_status']).plot(kind='bar', stacked=True, ax=axs[1])"
   ]
  },
  {
   "cell_type": "code",
   "execution_count": 38,
   "id": "116ef7a3",
   "metadata": {},
   "outputs": [
    {
     "data": {
      "text/html": [
       "<div>\n",
       "<style scoped>\n",
       "    .dataframe tbody tr th:only-of-type {\n",
       "        vertical-align: middle;\n",
       "    }\n",
       "\n",
       "    .dataframe tbody tr th {\n",
       "        vertical-align: top;\n",
       "    }\n",
       "\n",
       "    .dataframe thead th {\n",
       "        text-align: right;\n",
       "    }\n",
       "</style>\n",
       "<table border=\"1\" class=\"dataframe\">\n",
       "  <thead>\n",
       "    <tr style=\"text-align: right;\">\n",
       "      <th>loan_status</th>\n",
       "      <th>Charged Off</th>\n",
       "      <th>Fully Paid</th>\n",
       "    </tr>\n",
       "    <tr>\n",
       "      <th>grade</th>\n",
       "      <th></th>\n",
       "      <th></th>\n",
       "    </tr>\n",
       "  </thead>\n",
       "  <tbody>\n",
       "    <tr>\n",
       "      <th>A</th>\n",
       "      <td>0.07</td>\n",
       "      <td>0.93</td>\n",
       "    </tr>\n",
       "    <tr>\n",
       "      <th>B</th>\n",
       "      <td>0.13</td>\n",
       "      <td>0.87</td>\n",
       "    </tr>\n",
       "    <tr>\n",
       "      <th>C</th>\n",
       "      <td>0.21</td>\n",
       "      <td>0.79</td>\n",
       "    </tr>\n",
       "    <tr>\n",
       "      <th>D</th>\n",
       "      <td>0.28</td>\n",
       "      <td>0.72</td>\n",
       "    </tr>\n",
       "    <tr>\n",
       "      <th>E</th>\n",
       "      <td>0.36</td>\n",
       "      <td>0.64</td>\n",
       "    </tr>\n",
       "    <tr>\n",
       "      <th>F</th>\n",
       "      <td>0.41</td>\n",
       "      <td>0.59</td>\n",
       "    </tr>\n",
       "    <tr>\n",
       "      <th>G</th>\n",
       "      <td>0.45</td>\n",
       "      <td>0.55</td>\n",
       "    </tr>\n",
       "  </tbody>\n",
       "</table>\n",
       "</div>"
      ],
      "text/plain": [
       "loan_status  Charged Off  Fully Paid\n",
       "grade                               \n",
       "A                   0.07        0.93\n",
       "B                   0.13        0.87\n",
       "C                   0.21        0.79\n",
       "D                   0.28        0.72\n",
       "E                   0.36        0.64\n",
       "F                   0.41        0.59\n",
       "G                   0.45        0.55"
      ]
     },
     "execution_count": 38,
     "metadata": {},
     "output_type": "execute_result"
    }
   ],
   "source": [
    "pd.crosstab(df['grade'], df['loan_status'], normalize='index')\\\n",
    ".round(2)"
   ]
  },
  {
   "cell_type": "code",
   "execution_count": 39,
   "id": "ab08257e",
   "metadata": {},
   "outputs": [
    {
     "data": {
      "text/html": [
       "<div>\n",
       "<style scoped>\n",
       "    .dataframe tbody tr th:only-of-type {\n",
       "        vertical-align: middle;\n",
       "    }\n",
       "\n",
       "    .dataframe tbody tr th {\n",
       "        vertical-align: top;\n",
       "    }\n",
       "\n",
       "    .dataframe thead th {\n",
       "        text-align: right;\n",
       "    }\n",
       "</style>\n",
       "<table border=\"1\" class=\"dataframe\">\n",
       "  <thead>\n",
       "    <tr style=\"text-align: right;\">\n",
       "      <th>loan_status</th>\n",
       "      <th>Charged Off</th>\n",
       "      <th>Fully Paid</th>\n",
       "    </tr>\n",
       "    <tr>\n",
       "      <th>sub_grade</th>\n",
       "      <th></th>\n",
       "      <th></th>\n",
       "    </tr>\n",
       "  </thead>\n",
       "  <tbody>\n",
       "    <tr>\n",
       "      <th>A1</th>\n",
       "      <td>0.03</td>\n",
       "      <td>0.97</td>\n",
       "    </tr>\n",
       "    <tr>\n",
       "      <th>A2</th>\n",
       "      <td>0.05</td>\n",
       "      <td>0.95</td>\n",
       "    </tr>\n",
       "    <tr>\n",
       "      <th>A3</th>\n",
       "      <td>0.06</td>\n",
       "      <td>0.94</td>\n",
       "    </tr>\n",
       "    <tr>\n",
       "      <th>A4</th>\n",
       "      <td>0.07</td>\n",
       "      <td>0.93</td>\n",
       "    </tr>\n",
       "    <tr>\n",
       "      <th>A5</th>\n",
       "      <td>0.09</td>\n",
       "      <td>0.91</td>\n",
       "    </tr>\n",
       "    <tr>\n",
       "      <th>B1</th>\n",
       "      <td>0.11</td>\n",
       "      <td>0.89</td>\n",
       "    </tr>\n",
       "    <tr>\n",
       "      <th>B2</th>\n",
       "      <td>0.12</td>\n",
       "      <td>0.88</td>\n",
       "    </tr>\n",
       "    <tr>\n",
       "      <th>B3</th>\n",
       "      <td>0.13</td>\n",
       "      <td>0.87</td>\n",
       "    </tr>\n",
       "    <tr>\n",
       "      <th>B4</th>\n",
       "      <td>0.15</td>\n",
       "      <td>0.85</td>\n",
       "    </tr>\n",
       "    <tr>\n",
       "      <th>B5</th>\n",
       "      <td>0.16</td>\n",
       "      <td>0.84</td>\n",
       "    </tr>\n",
       "    <tr>\n",
       "      <th>C1</th>\n",
       "      <td>0.18</td>\n",
       "      <td>0.82</td>\n",
       "    </tr>\n",
       "    <tr>\n",
       "      <th>C2</th>\n",
       "      <td>0.19</td>\n",
       "      <td>0.81</td>\n",
       "    </tr>\n",
       "    <tr>\n",
       "      <th>C3</th>\n",
       "      <td>0.22</td>\n",
       "      <td>0.78</td>\n",
       "    </tr>\n",
       "    <tr>\n",
       "      <th>C4</th>\n",
       "      <td>0.23</td>\n",
       "      <td>0.77</td>\n",
       "    </tr>\n",
       "    <tr>\n",
       "      <th>C5</th>\n",
       "      <td>0.24</td>\n",
       "      <td>0.76</td>\n",
       "    </tr>\n",
       "    <tr>\n",
       "      <th>D1</th>\n",
       "      <td>0.25</td>\n",
       "      <td>0.75</td>\n",
       "    </tr>\n",
       "    <tr>\n",
       "      <th>D2</th>\n",
       "      <td>0.27</td>\n",
       "      <td>0.73</td>\n",
       "    </tr>\n",
       "    <tr>\n",
       "      <th>D3</th>\n",
       "      <td>0.27</td>\n",
       "      <td>0.73</td>\n",
       "    </tr>\n",
       "    <tr>\n",
       "      <th>D4</th>\n",
       "      <td>0.30</td>\n",
       "      <td>0.70</td>\n",
       "    </tr>\n",
       "    <tr>\n",
       "      <th>D5</th>\n",
       "      <td>0.31</td>\n",
       "      <td>0.69</td>\n",
       "    </tr>\n",
       "    <tr>\n",
       "      <th>E1</th>\n",
       "      <td>0.33</td>\n",
       "      <td>0.67</td>\n",
       "    </tr>\n",
       "    <tr>\n",
       "      <th>E2</th>\n",
       "      <td>0.36</td>\n",
       "      <td>0.64</td>\n",
       "    </tr>\n",
       "    <tr>\n",
       "      <th>E3</th>\n",
       "      <td>0.35</td>\n",
       "      <td>0.65</td>\n",
       "    </tr>\n",
       "    <tr>\n",
       "      <th>E4</th>\n",
       "      <td>0.38</td>\n",
       "      <td>0.62</td>\n",
       "    </tr>\n",
       "    <tr>\n",
       "      <th>E5</th>\n",
       "      <td>0.39</td>\n",
       "      <td>0.61</td>\n",
       "    </tr>\n",
       "    <tr>\n",
       "      <th>F1</th>\n",
       "      <td>0.38</td>\n",
       "      <td>0.62</td>\n",
       "    </tr>\n",
       "    <tr>\n",
       "      <th>F2</th>\n",
       "      <td>0.39</td>\n",
       "      <td>0.61</td>\n",
       "    </tr>\n",
       "    <tr>\n",
       "      <th>F3</th>\n",
       "      <td>0.43</td>\n",
       "      <td>0.57</td>\n",
       "    </tr>\n",
       "    <tr>\n",
       "      <th>F4</th>\n",
       "      <td>0.44</td>\n",
       "      <td>0.56</td>\n",
       "    </tr>\n",
       "    <tr>\n",
       "      <th>F5</th>\n",
       "      <td>0.46</td>\n",
       "      <td>0.54</td>\n",
       "    </tr>\n",
       "    <tr>\n",
       "      <th>G1</th>\n",
       "      <td>0.47</td>\n",
       "      <td>0.53</td>\n",
       "    </tr>\n",
       "    <tr>\n",
       "      <th>G2</th>\n",
       "      <td>0.43</td>\n",
       "      <td>0.57</td>\n",
       "    </tr>\n",
       "    <tr>\n",
       "      <th>G3</th>\n",
       "      <td>0.47</td>\n",
       "      <td>0.53</td>\n",
       "    </tr>\n",
       "    <tr>\n",
       "      <th>G4</th>\n",
       "      <td>0.36</td>\n",
       "      <td>0.64</td>\n",
       "    </tr>\n",
       "    <tr>\n",
       "      <th>G5</th>\n",
       "      <td>0.47</td>\n",
       "      <td>0.53</td>\n",
       "    </tr>\n",
       "  </tbody>\n",
       "</table>\n",
       "</div>"
      ],
      "text/plain": [
       "loan_status  Charged Off  Fully Paid\n",
       "sub_grade                           \n",
       "A1                  0.03        0.97\n",
       "A2                  0.05        0.95\n",
       "A3                  0.06        0.94\n",
       "A4                  0.07        0.93\n",
       "A5                  0.09        0.91\n",
       "B1                  0.11        0.89\n",
       "B2                  0.12        0.88\n",
       "B3                  0.13        0.87\n",
       "B4                  0.15        0.85\n",
       "B5                  0.16        0.84\n",
       "C1                  0.18        0.82\n",
       "C2                  0.19        0.81\n",
       "C3                  0.22        0.78\n",
       "C4                  0.23        0.77\n",
       "C5                  0.24        0.76\n",
       "D1                  0.25        0.75\n",
       "D2                  0.27        0.73\n",
       "D3                  0.27        0.73\n",
       "D4                  0.30        0.70\n",
       "D5                  0.31        0.69\n",
       "E1                  0.33        0.67\n",
       "E2                  0.36        0.64\n",
       "E3                  0.35        0.65\n",
       "E4                  0.38        0.62\n",
       "E5                  0.39        0.61\n",
       "F1                  0.38        0.62\n",
       "F2                  0.39        0.61\n",
       "F3                  0.43        0.57\n",
       "F4                  0.44        0.56\n",
       "F5                  0.46        0.54\n",
       "G1                  0.47        0.53\n",
       "G2                  0.43        0.57\n",
       "G3                  0.47        0.53\n",
       "G4                  0.36        0.64\n",
       "G5                  0.47        0.53"
      ]
     },
     "execution_count": 39,
     "metadata": {},
     "output_type": "execute_result"
    }
   ],
   "source": [
    "pd.crosstab(df['sub_grade'], df['loan_status'], normalize='index')\\\n",
    ".round(2)"
   ]
  },
  {
   "cell_type": "markdown",
   "id": "3c943f00",
   "metadata": {},
   "source": [
    "We can see that clients with `grade` E, F, and G have a higher proportion to Charge Off compared to other `grade`. This is also represented in the `sub_grade` feature. We know that each `sub_grade` also represents their `grade`, so we need to drop `grade` features to reduce redundant information."
   ]
  },
  {
   "cell_type": "code",
   "execution_count": 40,
   "id": "c4f9508a",
   "metadata": {},
   "outputs": [],
   "source": [
    "df = df.drop('grade', axis=1)"
   ]
  },
  {
   "cell_type": "markdown",
   "id": "552c25ca",
   "metadata": {},
   "source": [
    "## Data Preprocessing\n",
    "### Handling Missing Data"
   ]
  },
  {
   "cell_type": "code",
   "execution_count": 41,
   "id": "727eb6f7",
   "metadata": {},
   "outputs": [
    {
     "name": "stdout",
     "output_type": "stream",
     "text": [
      "emp_length: 8721(3.82%)\n",
      "revol_util: 186(0.08%)\n"
     ]
    }
   ],
   "source": [
    "for column in df.columns:\n",
    "    if df[column].isna().sum() != 0:\n",
    "        missing = df[column].isna().sum()\n",
    "        missing_prob = (missing / df.shape[0]) * 100\n",
    "        print(f\"{column}: {missing}({missing_prob:.2f}%)\")"
   ]
  },
  {
   "cell_type": "markdown",
   "id": "20ba8448",
   "metadata": {},
   "source": [
    "#### emp_length"
   ]
  },
  {
   "cell_type": "code",
   "execution_count": 42,
   "id": "cccbb73c",
   "metadata": {},
   "outputs": [
    {
     "data": {
      "text/html": [
       "<div>\n",
       "<style scoped>\n",
       "    .dataframe tbody tr th:only-of-type {\n",
       "        vertical-align: middle;\n",
       "    }\n",
       "\n",
       "    .dataframe tbody tr th {\n",
       "        vertical-align: top;\n",
       "    }\n",
       "\n",
       "    .dataframe thead th {\n",
       "        text-align: right;\n",
       "    }\n",
       "</style>\n",
       "<table border=\"1\" class=\"dataframe\">\n",
       "  <thead>\n",
       "    <tr style=\"text-align: right;\">\n",
       "      <th>loan_status</th>\n",
       "      <th>Charged Off</th>\n",
       "      <th>Fully Paid</th>\n",
       "    </tr>\n",
       "    <tr>\n",
       "      <th>emp_length</th>\n",
       "      <th></th>\n",
       "      <th></th>\n",
       "    </tr>\n",
       "  </thead>\n",
       "  <tbody>\n",
       "    <tr>\n",
       "      <th>1 year</th>\n",
       "      <td>0.18</td>\n",
       "      <td>0.82</td>\n",
       "    </tr>\n",
       "    <tr>\n",
       "      <th>10+ years</th>\n",
       "      <td>0.18</td>\n",
       "      <td>0.82</td>\n",
       "    </tr>\n",
       "    <tr>\n",
       "      <th>2 years</th>\n",
       "      <td>0.18</td>\n",
       "      <td>0.82</td>\n",
       "    </tr>\n",
       "    <tr>\n",
       "      <th>3 years</th>\n",
       "      <td>0.18</td>\n",
       "      <td>0.82</td>\n",
       "    </tr>\n",
       "    <tr>\n",
       "      <th>4 years</th>\n",
       "      <td>0.18</td>\n",
       "      <td>0.82</td>\n",
       "    </tr>\n",
       "    <tr>\n",
       "      <th>5 years</th>\n",
       "      <td>0.19</td>\n",
       "      <td>0.81</td>\n",
       "    </tr>\n",
       "    <tr>\n",
       "      <th>6 years</th>\n",
       "      <td>0.19</td>\n",
       "      <td>0.81</td>\n",
       "    </tr>\n",
       "    <tr>\n",
       "      <th>7 years</th>\n",
       "      <td>0.19</td>\n",
       "      <td>0.81</td>\n",
       "    </tr>\n",
       "    <tr>\n",
       "      <th>8 years</th>\n",
       "      <td>0.20</td>\n",
       "      <td>0.80</td>\n",
       "    </tr>\n",
       "    <tr>\n",
       "      <th>9 years</th>\n",
       "      <td>0.20</td>\n",
       "      <td>0.80</td>\n",
       "    </tr>\n",
       "    <tr>\n",
       "      <th>&lt; 1 year</th>\n",
       "      <td>0.19</td>\n",
       "      <td>0.81</td>\n",
       "    </tr>\n",
       "  </tbody>\n",
       "</table>\n",
       "</div>"
      ],
      "text/plain": [
       "loan_status  Charged Off  Fully Paid\n",
       "emp_length                          \n",
       "1 year              0.18        0.82\n",
       "10+ years           0.18        0.82\n",
       "2 years             0.18        0.82\n",
       "3 years             0.18        0.82\n",
       "4 years             0.18        0.82\n",
       "5 years             0.19        0.81\n",
       "6 years             0.19        0.81\n",
       "7 years             0.19        0.81\n",
       "8 years             0.20        0.80\n",
       "9 years             0.20        0.80\n",
       "< 1 year            0.19        0.81"
      ]
     },
     "execution_count": 42,
     "metadata": {},
     "output_type": "execute_result"
    }
   ],
   "source": [
    "pd.crosstab(df['emp_length'], df['loan_status'], normalize='index')\\\n",
    ".round(2)"
   ]
  },
  {
   "cell_type": "markdown",
   "id": "4810c8e9",
   "metadata": {},
   "source": [
    "We can see that the proportion of `loan_status` between `emp_length` are very similar. Before we decide to drop this column or not, we need to see the composition of `emp_length` which has the value NaN."
   ]
  },
  {
   "cell_type": "code",
   "execution_count": 43,
   "id": "2c4817e9",
   "metadata": {},
   "outputs": [
    {
     "data": {
      "text/plain": [
       "Fully Paid     6351\n",
       "Charged Off    2370\n",
       "Name: loan_status, dtype: int64"
      ]
     },
     "execution_count": 43,
     "metadata": {},
     "output_type": "execute_result"
    }
   ],
   "source": [
    "df[df['emp_length'].isnull()]['loan_status'].value_counts()"
   ]
  },
  {
   "cell_type": "markdown",
   "id": "7f7af3bd",
   "metadata": {},
   "source": [
    "The `emp_length` that has the NaN value also contains a lot of information from that client Charge Off. So we cannot simply delete rows that have an emp_length value of NaN because it will reduce a lot of information from Charge Off clients."
   ]
  },
  {
   "cell_type": "code",
   "execution_count": 44,
   "id": "58c9fd8f",
   "metadata": {},
   "outputs": [],
   "source": [
    "df = df.drop('emp_length', axis=1)"
   ]
  },
  {
   "cell_type": "markdown",
   "id": "3fbfb6f0",
   "metadata": {},
   "source": [
    "#### revol_util\n",
    "- Revolving line utilization rate, or the amount of credit the borrower is using relative to all available revolving credit."
   ]
  },
  {
   "cell_type": "code",
   "execution_count": 45,
   "id": "2750bbf7",
   "metadata": {},
   "outputs": [
    {
     "data": {
      "text/plain": [
       "Fully Paid     139\n",
       "Charged Off     47\n",
       "Name: loan_status, dtype: int64"
      ]
     },
     "execution_count": 45,
     "metadata": {},
     "output_type": "execute_result"
    }
   ],
   "source": [
    "df[df['revol_util'].isnull()]['loan_status'].value_counts()"
   ]
  },
  {
   "cell_type": "markdown",
   "id": "b38e8b00",
   "metadata": {},
   "source": [
    "Relative to the data size, the amount of data in the `revol_util` column that has NaN values is quite small. So we can delete rows that `revol_util` have NaN values"
   ]
  },
  {
   "cell_type": "code",
   "execution_count": 46,
   "id": "5857e5f6",
   "metadata": {},
   "outputs": [],
   "source": [
    "df = df[df['revol_util'].notnull()]"
   ]
  },
  {
   "cell_type": "markdown",
   "id": "db570389",
   "metadata": {},
   "source": [
    "### Convert Numeric Variables"
   ]
  },
  {
   "cell_type": "code",
   "execution_count": 47,
   "id": "b3399ee3",
   "metadata": {},
   "outputs": [
    {
     "name": "stdout",
     "output_type": "stream",
     "text": [
      "<class 'pandas.core.frame.DataFrame'>\n",
      "Int64Index: 227860 entries, 0 to 466283\n",
      "Data columns (total 12 columns):\n",
      " #   Column            Non-Null Count   Dtype  \n",
      "---  ------            --------------   -----  \n",
      " 0   loan_amnt         227860 non-null  int64  \n",
      " 1   int_rate          227860 non-null  float64\n",
      " 2   installment       227860 non-null  float64\n",
      " 3   annual_inc        227860 non-null  float64\n",
      " 4   dti               227860 non-null  float64\n",
      " 5   earliest_cr_line  227860 non-null  int64  \n",
      " 6   open_acc          227860 non-null  float64\n",
      " 7   pub_rec           227860 non-null  float64\n",
      " 8   revol_bal         227860 non-null  int64  \n",
      " 9   revol_util        227860 non-null  float64\n",
      " 10  total_acc         227860 non-null  float64\n",
      " 11  acc_now_delinq    227860 non-null  float64\n",
      "dtypes: float64(9), int64(3)\n",
      "memory usage: 22.6 MB\n"
     ]
    }
   ],
   "source": [
    "df.select_dtypes(include=np.number).info()"
   ]
  },
  {
   "cell_type": "code",
   "execution_count": 48,
   "id": "a8f5db83",
   "metadata": {},
   "outputs": [
    {
     "name": "stdout",
     "output_type": "stream",
     "text": [
      "<class 'pandas.core.frame.DataFrame'>\n",
      "Int64Index: 227860 entries, 0 to 466283\n",
      "Data columns (total 1 columns):\n",
      " #   Column      Non-Null Count   Dtype\n",
      "---  ------      --------------   -----\n",
      " 0   desc_is_na  227860 non-null  bool \n",
      "dtypes: bool(1)\n",
      "memory usage: 2.0 MB\n"
     ]
    }
   ],
   "source": [
    "df.select_dtypes(include=bool).info()"
   ]
  },
  {
   "cell_type": "code",
   "execution_count": 49,
   "id": "1675976d",
   "metadata": {},
   "outputs": [],
   "source": [
    "col_to_int = ['open_acc', 'pub_rec', 'total_acc', 'acc_now_delinq']\n",
    "col_to_float = ['revol_bal', 'loan_amnt', 'desc_is_na']\n",
    "\n",
    "df[col_to_int] = df[col_to_int].astype(int)\n",
    "df[col_to_float] = df[col_to_float].astype(float)"
   ]
  },
  {
   "cell_type": "markdown",
   "id": "80c07dc8",
   "metadata": {},
   "source": [
    "### Removing Outliers"
   ]
  },
  {
   "cell_type": "code",
   "execution_count": 50,
   "id": "7710107d",
   "metadata": {},
   "outputs": [],
   "source": [
    "cols = df.select_dtypes(float).columns\n",
    "df_sub = df.loc[:, cols]\n",
    "\n",
    "lim = np.abs((df_sub - df_sub.mean()) / df_sub.std(ddof=0)) < 3\n",
    "\n",
    "df.loc[:, cols] = df_sub.where(lim, np.nan)\n",
    "\n",
    "df.dropna(subset=cols, inplace=True)"
   ]
  },
  {
   "cell_type": "markdown",
   "id": "198588fc",
   "metadata": {},
   "source": [
    "## Encode Data\n",
    "### Target"
   ]
  },
  {
   "cell_type": "code",
   "execution_count": 51,
   "id": "4f914d4f",
   "metadata": {},
   "outputs": [],
   "source": [
    "le = LabelEncoder()"
   ]
  },
  {
   "cell_type": "code",
   "execution_count": 52,
   "id": "ffad1ded",
   "metadata": {},
   "outputs": [],
   "source": [
    "df.loan_status = le.fit_transform(df.loan_status)"
   ]
  },
  {
   "cell_type": "code",
   "execution_count": 53,
   "id": "2e1feeba",
   "metadata": {},
   "outputs": [
    {
     "name": "stdout",
     "output_type": "stream",
     "text": [
      "[0 1]\n",
      "['Charged Off' 'Fully Paid']\n"
     ]
    }
   ],
   "source": [
    "print(le.transform(['Charged Off', 'Fully Paid']))\n",
    "print(le.classes_)"
   ]
  },
  {
   "cell_type": "markdown",
   "id": "47fe6761",
   "metadata": {},
   "source": [
    "### Categorical Variables"
   ]
  },
  {
   "cell_type": "code",
   "execution_count": 54,
   "id": "1779075a",
   "metadata": {},
   "outputs": [
    {
     "data": {
      "text/html": [
       "<div>\n",
       "<style scoped>\n",
       "    .dataframe tbody tr th:only-of-type {\n",
       "        vertical-align: middle;\n",
       "    }\n",
       "\n",
       "    .dataframe tbody tr th {\n",
       "        vertical-align: top;\n",
       "    }\n",
       "\n",
       "    .dataframe thead th {\n",
       "        text-align: right;\n",
       "    }\n",
       "</style>\n",
       "<table border=\"1\" class=\"dataframe\">\n",
       "  <thead>\n",
       "    <tr style=\"text-align: right;\">\n",
       "      <th></th>\n",
       "      <th>term</th>\n",
       "      <th>sub_grade</th>\n",
       "      <th>home_ownership</th>\n",
       "      <th>verification_status</th>\n",
       "      <th>pymnt_plan</th>\n",
       "      <th>purpose</th>\n",
       "      <th>addr_state</th>\n",
       "      <th>initial_list_status</th>\n",
       "    </tr>\n",
       "  </thead>\n",
       "  <tbody>\n",
       "    <tr>\n",
       "      <th>0</th>\n",
       "      <td>36 months</td>\n",
       "      <td>B2</td>\n",
       "      <td>RENT</td>\n",
       "      <td>Verified</td>\n",
       "      <td>n</td>\n",
       "      <td>credit_card</td>\n",
       "      <td>AZ</td>\n",
       "      <td>f</td>\n",
       "    </tr>\n",
       "    <tr>\n",
       "      <th>1</th>\n",
       "      <td>60 months</td>\n",
       "      <td>C4</td>\n",
       "      <td>RENT</td>\n",
       "      <td>Source Verified</td>\n",
       "      <td>n</td>\n",
       "      <td>car</td>\n",
       "      <td>GA</td>\n",
       "      <td>f</td>\n",
       "    </tr>\n",
       "    <tr>\n",
       "      <th>2</th>\n",
       "      <td>36 months</td>\n",
       "      <td>C5</td>\n",
       "      <td>RENT</td>\n",
       "      <td>Not Verified</td>\n",
       "      <td>n</td>\n",
       "      <td>small_business</td>\n",
       "      <td>IL</td>\n",
       "      <td>f</td>\n",
       "    </tr>\n",
       "    <tr>\n",
       "      <th>3</th>\n",
       "      <td>36 months</td>\n",
       "      <td>C1</td>\n",
       "      <td>RENT</td>\n",
       "      <td>Source Verified</td>\n",
       "      <td>n</td>\n",
       "      <td>other</td>\n",
       "      <td>CA</td>\n",
       "      <td>f</td>\n",
       "    </tr>\n",
       "    <tr>\n",
       "      <th>5</th>\n",
       "      <td>36 months</td>\n",
       "      <td>A4</td>\n",
       "      <td>RENT</td>\n",
       "      <td>Source Verified</td>\n",
       "      <td>n</td>\n",
       "      <td>wedding</td>\n",
       "      <td>AZ</td>\n",
       "      <td>f</td>\n",
       "    </tr>\n",
       "  </tbody>\n",
       "</table>\n",
       "</div>"
      ],
      "text/plain": [
       "         term sub_grade home_ownership verification_status pymnt_plan  \\\n",
       "0   36 months        B2           RENT            Verified          n   \n",
       "1   60 months        C4           RENT     Source Verified          n   \n",
       "2   36 months        C5           RENT        Not Verified          n   \n",
       "3   36 months        C1           RENT     Source Verified          n   \n",
       "5   36 months        A4           RENT     Source Verified          n   \n",
       "\n",
       "          purpose addr_state initial_list_status  \n",
       "0     credit_card         AZ                   f  \n",
       "1             car         GA                   f  \n",
       "2  small_business         IL                   f  \n",
       "3           other         CA                   f  \n",
       "5         wedding         AZ                   f  "
      ]
     },
     "execution_count": 54,
     "metadata": {},
     "output_type": "execute_result"
    }
   ],
   "source": [
    "df.select_dtypes(include=object).head()"
   ]
  },
  {
   "cell_type": "code",
   "execution_count": 55,
   "id": "3dc50f99",
   "metadata": {},
   "outputs": [
    {
     "data": {
      "text/plain": [
       "array([36, 60])"
      ]
     },
     "execution_count": 55,
     "metadata": {},
     "output_type": "execute_result"
    }
   ],
   "source": [
    "df['term'] = np.where(df['term'] == \" 36 months\", 36,\n",
    "             np.where(df['term'] == \" 60 months\", 60,         \n",
    "             df['term']))\n",
    "df['term'] = df['term'].astype(int)\n",
    "df['term'].unique()"
   ]
  },
  {
   "cell_type": "markdown",
   "id": "1cf7ad6c",
   "metadata": {},
   "source": [
    "### Create Transformer"
   ]
  },
  {
   "cell_type": "code",
   "execution_count": 56,
   "id": "b82f74cf",
   "metadata": {},
   "outputs": [],
   "source": [
    "categories = df.select_dtypes(include=[object]).columns.tolist()"
   ]
  },
  {
   "cell_type": "code",
   "execution_count": 57,
   "id": "12da94af",
   "metadata": {},
   "outputs": [],
   "source": [
    "numerics = df.drop(['loan_status'], axis=1).select_dtypes(include=np.number).columns.tolist()"
   ]
  },
  {
   "cell_type": "code",
   "execution_count": 58,
   "id": "e093acd6",
   "metadata": {},
   "outputs": [],
   "source": [
    "ohe = OneHotEncoder(sparse_output=False)\n",
    "scaler = MinMaxScaler()"
   ]
  },
  {
   "cell_type": "code",
   "execution_count": 59,
   "id": "d81d0b87",
   "metadata": {},
   "outputs": [],
   "source": [
    "ct = ColumnTransformer(\n",
    "    [(\"onehotencoder\", ohe, categories),\n",
    "     (\"minmaxscaler\", scaler, numerics)],\n",
    "    remainder = 'passthrough'\n",
    ")\n",
    "\n",
    "ct.set_output(transform='pandas')\n",
    "processed_df = ct.fit_transform(df.drop(['loan_status'], axis=1))"
   ]
  },
  {
   "cell_type": "code",
   "execution_count": 60,
   "id": "e6cf78c8",
   "metadata": {},
   "outputs": [],
   "source": [
    "processed_df = pd.concat([processed_df, df['loan_status']], axis=1)"
   ]
  },
  {
   "cell_type": "code",
   "execution_count": 61,
   "id": "c2236af5",
   "metadata": {},
   "outputs": [
    {
     "data": {
      "text/plain": [
       "1    178416\n",
       "0     42012\n",
       "Name: loan_status, dtype: int64"
      ]
     },
     "execution_count": 61,
     "metadata": {},
     "output_type": "execute_result"
    }
   ],
   "source": [
    "processed_df.loan_status.value_counts()"
   ]
  },
  {
   "cell_type": "markdown",
   "id": "41a4f5ac",
   "metadata": {},
   "source": [
    "### Train Test Split"
   ]
  },
  {
   "cell_type": "code",
   "execution_count": 62,
   "id": "b65b9078",
   "metadata": {},
   "outputs": [],
   "source": [
    "train, test = train_test_split(processed_df, test_size=0.2, random_state=42)"
   ]
  },
  {
   "cell_type": "code",
   "execution_count": 63,
   "id": "86a47c68",
   "metadata": {},
   "outputs": [
    {
     "name": "stdout",
     "output_type": "stream",
     "text": [
      "(176342, 127)\n",
      "(44086, 127)\n"
     ]
    }
   ],
   "source": [
    "print(train.shape)\n",
    "print(test.shape)"
   ]
  },
  {
   "cell_type": "code",
   "execution_count": 64,
   "id": "1279db4f",
   "metadata": {},
   "outputs": [
    {
     "data": {
      "text/plain": [
       "1    35803\n",
       "0     8283\n",
       "Name: loan_status, dtype: int64"
      ]
     },
     "execution_count": 64,
     "metadata": {},
     "output_type": "execute_result"
    }
   ],
   "source": [
    "test.loan_status.value_counts()"
   ]
  },
  {
   "cell_type": "code",
   "execution_count": 65,
   "id": "a7e9aa6c",
   "metadata": {},
   "outputs": [
    {
     "data": {
      "text/plain": [
       "1    142613\n",
       "0     33729\n",
       "Name: loan_status, dtype: int64"
      ]
     },
     "execution_count": 65,
     "metadata": {},
     "output_type": "execute_result"
    }
   ],
   "source": [
    "train.loan_status.value_counts()"
   ]
  },
  {
   "cell_type": "code",
   "execution_count": 66,
   "id": "992c1c47",
   "metadata": {},
   "outputs": [],
   "source": [
    "X_train, y_train = train.drop('loan_status', axis=1), train.loan_status\n",
    "X_test, y_test = test.drop('loan_status', axis=1), test.loan_status"
   ]
  },
  {
   "cell_type": "code",
   "execution_count": 67,
   "id": "ba10a524",
   "metadata": {},
   "outputs": [
    {
     "name": "stdout",
     "output_type": "stream",
     "text": [
      "(176342, 126)\n",
      "(176342,)\n"
     ]
    }
   ],
   "source": [
    "print(X_train.shape)\n",
    "print(y_train.shape)"
   ]
  },
  {
   "cell_type": "markdown",
   "id": "97172892",
   "metadata": {},
   "source": [
    "## Model Building\n",
    "### Random Forest"
   ]
  },
  {
   "cell_type": "code",
   "execution_count": 68,
   "id": "5fd03d48",
   "metadata": {},
   "outputs": [],
   "source": [
    "rf_clf = RandomForestClassifier()"
   ]
  },
  {
   "cell_type": "code",
   "execution_count": 69,
   "id": "9f81cd1f",
   "metadata": {},
   "outputs": [
    {
     "data": {
      "text/html": [
       "<style>#sk-container-id-1 {color: black;}#sk-container-id-1 pre{padding: 0;}#sk-container-id-1 div.sk-toggleable {background-color: white;}#sk-container-id-1 label.sk-toggleable__label {cursor: pointer;display: block;width: 100%;margin-bottom: 0;padding: 0.3em;box-sizing: border-box;text-align: center;}#sk-container-id-1 label.sk-toggleable__label-arrow:before {content: \"▸\";float: left;margin-right: 0.25em;color: #696969;}#sk-container-id-1 label.sk-toggleable__label-arrow:hover:before {color: black;}#sk-container-id-1 div.sk-estimator:hover label.sk-toggleable__label-arrow:before {color: black;}#sk-container-id-1 div.sk-toggleable__content {max-height: 0;max-width: 0;overflow: hidden;text-align: left;background-color: #f0f8ff;}#sk-container-id-1 div.sk-toggleable__content pre {margin: 0.2em;color: black;border-radius: 0.25em;background-color: #f0f8ff;}#sk-container-id-1 input.sk-toggleable__control:checked~div.sk-toggleable__content {max-height: 200px;max-width: 100%;overflow: auto;}#sk-container-id-1 input.sk-toggleable__control:checked~label.sk-toggleable__label-arrow:before {content: \"▾\";}#sk-container-id-1 div.sk-estimator input.sk-toggleable__control:checked~label.sk-toggleable__label {background-color: #d4ebff;}#sk-container-id-1 div.sk-label input.sk-toggleable__control:checked~label.sk-toggleable__label {background-color: #d4ebff;}#sk-container-id-1 input.sk-hidden--visually {border: 0;clip: rect(1px 1px 1px 1px);clip: rect(1px, 1px, 1px, 1px);height: 1px;margin: -1px;overflow: hidden;padding: 0;position: absolute;width: 1px;}#sk-container-id-1 div.sk-estimator {font-family: monospace;background-color: #f0f8ff;border: 1px dotted black;border-radius: 0.25em;box-sizing: border-box;margin-bottom: 0.5em;}#sk-container-id-1 div.sk-estimator:hover {background-color: #d4ebff;}#sk-container-id-1 div.sk-parallel-item::after {content: \"\";width: 100%;border-bottom: 1px solid gray;flex-grow: 1;}#sk-container-id-1 div.sk-label:hover label.sk-toggleable__label {background-color: #d4ebff;}#sk-container-id-1 div.sk-serial::before {content: \"\";position: absolute;border-left: 1px solid gray;box-sizing: border-box;top: 0;bottom: 0;left: 50%;z-index: 0;}#sk-container-id-1 div.sk-serial {display: flex;flex-direction: column;align-items: center;background-color: white;padding-right: 0.2em;padding-left: 0.2em;position: relative;}#sk-container-id-1 div.sk-item {position: relative;z-index: 1;}#sk-container-id-1 div.sk-parallel {display: flex;align-items: stretch;justify-content: center;background-color: white;position: relative;}#sk-container-id-1 div.sk-item::before, #sk-container-id-1 div.sk-parallel-item::before {content: \"\";position: absolute;border-left: 1px solid gray;box-sizing: border-box;top: 0;bottom: 0;left: 50%;z-index: -1;}#sk-container-id-1 div.sk-parallel-item {display: flex;flex-direction: column;z-index: 1;position: relative;background-color: white;}#sk-container-id-1 div.sk-parallel-item:first-child::after {align-self: flex-end;width: 50%;}#sk-container-id-1 div.sk-parallel-item:last-child::after {align-self: flex-start;width: 50%;}#sk-container-id-1 div.sk-parallel-item:only-child::after {width: 0;}#sk-container-id-1 div.sk-dashed-wrapped {border: 1px dashed gray;margin: 0 0.4em 0.5em 0.4em;box-sizing: border-box;padding-bottom: 0.4em;background-color: white;}#sk-container-id-1 div.sk-label label {font-family: monospace;font-weight: bold;display: inline-block;line-height: 1.2em;}#sk-container-id-1 div.sk-label-container {text-align: center;}#sk-container-id-1 div.sk-container {/* jupyter's `normalize.less` sets `[hidden] { display: none; }` but bootstrap.min.css set `[hidden] { display: none !important; }` so we also need the `!important` here to be able to override the default hidden behavior on the sphinx rendered scikit-learn.org. See: https://github.com/scikit-learn/scikit-learn/issues/21755 */display: inline-block !important;position: relative;}#sk-container-id-1 div.sk-text-repr-fallback {display: none;}</style><div id=\"sk-container-id-1\" class=\"sk-top-container\"><div class=\"sk-text-repr-fallback\"><pre>RandomForestClassifier()</pre><b>In a Jupyter environment, please rerun this cell to show the HTML representation or trust the notebook. <br />On GitHub, the HTML representation is unable to render, please try loading this page with nbviewer.org.</b></div><div class=\"sk-container\" hidden><div class=\"sk-item\"><div class=\"sk-estimator sk-toggleable\"><input class=\"sk-toggleable__control sk-hidden--visually\" id=\"sk-estimator-id-1\" type=\"checkbox\" checked><label for=\"sk-estimator-id-1\" class=\"sk-toggleable__label sk-toggleable__label-arrow\">RandomForestClassifier</label><div class=\"sk-toggleable__content\"><pre>RandomForestClassifier()</pre></div></div></div></div></div>"
      ],
      "text/plain": [
       "RandomForestClassifier()"
      ]
     },
     "execution_count": 69,
     "metadata": {},
     "output_type": "execute_result"
    }
   ],
   "source": [
    "rf_clf.fit(X_train, y_train)"
   ]
  },
  {
   "cell_type": "code",
   "execution_count": 70,
   "id": "2a6d21ae",
   "metadata": {},
   "outputs": [],
   "source": [
    "y_train_pred = rf_clf.predict(X_train)\n",
    "y_test_pred = rf_clf.predict(X_test)"
   ]
  },
  {
   "cell_type": "code",
   "execution_count": 71,
   "id": "d25ba35f",
   "metadata": {},
   "outputs": [
    {
     "name": "stdout",
     "output_type": "stream",
     "text": [
      "0.9999943292012112\n",
      "0.8121172254230368\n"
     ]
    }
   ],
   "source": [
    "print(accuracy_score(y_train, y_train_pred))\n",
    "print(accuracy_score(y_test, y_test_pred))"
   ]
  },
  {
   "cell_type": "code",
   "execution_count": 72,
   "id": "84fc8988",
   "metadata": {},
   "outputs": [
    {
     "data": {
      "image/png": "[encoded data removed]",
      "text/plain": [
       "<Figure size 432x288 with 2 Axes>"
      ]
     },
     "metadata": {
      "needs_background": "light"
     },
     "output_type": "display_data"
    },
    {
     "data": {
      "image/png": "[encoded data removed]",
      "text/plain": [
       "<Figure size 432x288 with 1 Axes>"
      ]
     },
     "metadata": {
      "needs_background": "light"
     },
     "output_type": "display_data"
    }
   ],
   "source": [
    "disp = ConfusionMatrixDisplay.from_estimator(\n",
    "    rf_clf, X_test, y_test, \n",
    "    cmap='Blues', values_format='d', \n",
    "    display_labels=['Charged Off', 'Fully Paid']\n",
    ")\n",
    "\n",
    "disp = RocCurveDisplay.from_estimator(rf_clf, X_test, y_test)"
   ]
  },
  {
   "cell_type": "code",
   "execution_count": 73,
   "id": "9a04871d",
   "metadata": {},
   "outputs": [],
   "source": [
    "auc_data = [['Random Forest', roc_auc_score(y_train, rf_clf.predict_proba(X_train)[:,1]), roc_auc_score(y_test, rf_clf.predict_proba(X_test)[:,1])]]\n",
    "df_auc_score = pd.DataFrame(auc_data, columns=['Models', 'AUC_Train', 'AUC_Test'])"
   ]
  },
  {
   "cell_type": "markdown",
   "id": "75c75255",
   "metadata": {},
   "source": [
    "### XGBoost"
   ]
  },
  {
   "cell_type": "code",
   "execution_count": 74,
   "id": "1ad75f44",
   "metadata": {},
   "outputs": [],
   "source": [
    "xgb_clf = XGBClassifier(use_label_encoder=False)"
   ]
  },
  {
   "cell_type": "code",
   "execution_count": 75,
   "id": "af316254",
   "metadata": {},
   "outputs": [
    {
     "data": {
      "text/html": [
       "<style>#sk-container-id-2 {color: black;}#sk-container-id-2 pre{padding: 0;}#sk-container-id-2 div.sk-toggleable {background-color: white;}#sk-container-id-2 label.sk-toggleable__label {cursor: pointer;display: block;width: 100%;margin-bottom: 0;padding: 0.3em;box-sizing: border-box;text-align: center;}#sk-container-id-2 label.sk-toggleable__label-arrow:before {content: \"▸\";float: left;margin-right: 0.25em;color: #696969;}#sk-container-id-2 label.sk-toggleable__label-arrow:hover:before {color: black;}#sk-container-id-2 div.sk-estimator:hover label.sk-toggleable__label-arrow:before {color: black;}#sk-container-id-2 div.sk-toggleable__content {max-height: 0;max-width: 0;overflow: hidden;text-align: left;background-color: #f0f8ff;}#sk-container-id-2 div.sk-toggleable__content pre {margin: 0.2em;color: black;border-radius: 0.25em;background-color: #f0f8ff;}#sk-container-id-2 input.sk-toggleable__control:checked~div.sk-toggleable__content {max-height: 200px;max-width: 100%;overflow: auto;}#sk-container-id-2 input.sk-toggleable__control:checked~label.sk-toggleable__label-arrow:before {content: \"▾\";}#sk-container-id-2 div.sk-estimator input.sk-toggleable__control:checked~label.sk-toggleable__label {background-color: #d4ebff;}#sk-container-id-2 div.sk-label input.sk-toggleable__control:checked~label.sk-toggleable__label {background-color: #d4ebff;}#sk-container-id-2 input.sk-hidden--visually {border: 0;clip: rect(1px 1px 1px 1px);clip: rect(1px, 1px, 1px, 1px);height: 1px;margin: -1px;overflow: hidden;padding: 0;position: absolute;width: 1px;}#sk-container-id-2 div.sk-estimator {font-family: monospace;background-color: #f0f8ff;border: 1px dotted black;border-radius: 0.25em;box-sizing: border-box;margin-bottom: 0.5em;}#sk-container-id-2 div.sk-estimator:hover {background-color: #d4ebff;}#sk-container-id-2 div.sk-parallel-item::after {content: \"\";width: 100%;border-bottom: 1px solid gray;flex-grow: 1;}#sk-container-id-2 div.sk-label:hover label.sk-toggleable__label {background-color: #d4ebff;}#sk-container-id-2 div.sk-serial::before {content: \"\";position: absolute;border-left: 1px solid gray;box-sizing: border-box;top: 0;bottom: 0;left: 50%;z-index: 0;}#sk-container-id-2 div.sk-serial {display: flex;flex-direction: column;align-items: center;background-color: white;padding-right: 0.2em;padding-left: 0.2em;position: relative;}#sk-container-id-2 div.sk-item {position: relative;z-index: 1;}#sk-container-id-2 div.sk-parallel {display: flex;align-items: stretch;justify-content: center;background-color: white;position: relative;}#sk-container-id-2 div.sk-item::before, #sk-container-id-2 div.sk-parallel-item::before {content: \"\";position: absolute;border-left: 1px solid gray;box-sizing: border-box;top: 0;bottom: 0;left: 50%;z-index: -1;}#sk-container-id-2 div.sk-parallel-item {display: flex;flex-direction: column;z-index: 1;position: relative;background-color: white;}#sk-container-id-2 div.sk-parallel-item:first-child::after {align-self: flex-end;width: 50%;}#sk-container-id-2 div.sk-parallel-item:last-child::after {align-self: flex-start;width: 50%;}#sk-container-id-2 div.sk-parallel-item:only-child::after {width: 0;}#sk-container-id-2 div.sk-dashed-wrapped {border: 1px dashed gray;margin: 0 0.4em 0.5em 0.4em;box-sizing: border-box;padding-bottom: 0.4em;background-color: white;}#sk-container-id-2 div.sk-label label {font-family: monospace;font-weight: bold;display: inline-block;line-height: 1.2em;}#sk-container-id-2 div.sk-label-container {text-align: center;}#sk-container-id-2 div.sk-container {/* jupyter's `normalize.less` sets `[hidden] { display: none; }` but bootstrap.min.css set `[hidden] { display: none !important; }` so we also need the `!important` here to be able to override the default hidden behavior on the sphinx rendered scikit-learn.org. See: https://github.com/scikit-learn/scikit-learn/issues/21755 */display: inline-block !important;position: relative;}#sk-container-id-2 div.sk-text-repr-fallback {display: none;}</style><div id=\"sk-container-id-2\" class=\"sk-top-container\"><div class=\"sk-text-repr-fallback\"><pre>XGBClassifier(base_score=None, booster=None, callbacks=None,\n",
       "              colsample_bylevel=None, colsample_bynode=None,\n",
       "              colsample_bytree=None, device=None, early_stopping_rounds=None,\n",
       "              enable_categorical=False, eval_metric=None, feature_types=None,\n",
       "              gamma=None, grow_policy=None, importance_type=None,\n",
       "              interaction_constraints=None, learning_rate=None, max_bin=None,\n",
       "              max_cat_threshold=None, max_cat_to_onehot=None,\n",
       "              max_delta_step=None, max_depth=None, max_leaves=None,\n",
       "              min_child_weight=None, missing=nan, monotone_constraints=None,\n",
       "              multi_strategy=None, n_estimators=None, n_jobs=None,\n",
       "              num_parallel_tree=None, random_state=None, ...)</pre><b>In a Jupyter environment, please rerun this cell to show the HTML representation or trust the notebook. <br />On GitHub, the HTML representation is unable to render, please try loading this page with nbviewer.org.</b></div><div class=\"sk-container\" hidden><div class=\"sk-item\"><div class=\"sk-estimator sk-toggleable\"><input class=\"sk-toggleable__control sk-hidden--visually\" id=\"sk-estimator-id-2\" type=\"checkbox\" checked><label for=\"sk-estimator-id-2\" class=\"sk-toggleable__label sk-toggleable__label-arrow\">XGBClassifier</label><div class=\"sk-toggleable__content\"><pre>XGBClassifier(base_score=None, booster=None, callbacks=None,\n",
       "              colsample_bylevel=None, colsample_bynode=None,\n",
       "              colsample_bytree=None, device=None, early_stopping_rounds=None,\n",
       "              enable_categorical=False, eval_metric=None, feature_types=None,\n",
       "              gamma=None, grow_policy=None, importance_type=None,\n",
       "              interaction_constraints=None, learning_rate=None, max_bin=None,\n",
       "              max_cat_threshold=None, max_cat_to_onehot=None,\n",
       "              max_delta_step=None, max_depth=None, max_leaves=None,\n",
       "              min_child_weight=None, missing=nan, monotone_constraints=None,\n",
       "              multi_strategy=None, n_estimators=None, n_jobs=None,\n",
       "              num_parallel_tree=None, random_state=None, ...)</pre></div></div></div></div></div>"
      ],
      "text/plain": [
       "XGBClassifier(base_score=None, booster=None, callbacks=None,\n",
       "              colsample_bylevel=None, colsample_bynode=None,\n",
       "              colsample_bytree=None, device=None, early_stopping_rounds=None,\n",
       "              enable_categorical=False, eval_metric=None, feature_types=None,\n",
       "              gamma=None, grow_policy=None, importance_type=None,\n",
       "              interaction_constraints=None, learning_rate=None, max_bin=None,\n",
       "              max_cat_threshold=None, max_cat_to_onehot=None,\n",
       "              max_delta_step=None, max_depth=None, max_leaves=None,\n",
       "              min_child_weight=None, missing=nan, monotone_constraints=None,\n",
       "              multi_strategy=None, n_estimators=None, n_jobs=None,\n",
       "              num_parallel_tree=None, random_state=None, ...)"
      ]
     },
     "execution_count": 75,
     "metadata": {},
     "output_type": "execute_result"
    }
   ],
   "source": [
    "xgb_clf.fit(X_train, y_train)"
   ]
  },
  {
   "cell_type": "code",
   "execution_count": 76,
   "id": "a83905e1",
   "metadata": {},
   "outputs": [],
   "source": [
    "y_train_pred = xgb_clf.predict(X_train)\n",
    "y_test_pred = xgb_clf.predict(X_test)"
   ]
  },
  {
   "cell_type": "code",
   "execution_count": 77,
   "id": "770b009e",
   "metadata": {},
   "outputs": [
    {
     "name": "stdout",
     "output_type": "stream",
     "text": [
      "0.8253450681062935\n",
      "0.811754298416731\n"
     ]
    }
   ],
   "source": [
    "print(accuracy_score(y_train, y_train_pred))\n",
    "print(accuracy_score(y_test, y_test_pred))"
   ]
  },
  {
   "cell_type": "code",
   "execution_count": 78,
   "id": "249dc48b",
   "metadata": {},
   "outputs": [
    {
     "data": {
      "image/png": "[encoded data removed]",
      "text/plain": [
       "<Figure size 432x288 with 2 Axes>"
      ]
     },
     "metadata": {
      "needs_background": "light"
     },
     "output_type": "display_data"
    },
    {
     "data": {
      "image/png": "[encoded data removed]",
      "text/plain": [
       "<Figure size 432x288 with 1 Axes>"
      ]
     },
     "metadata": {
      "needs_background": "light"
     },
     "output_type": "display_data"
    }
   ],
   "source": [
    "disp = ConfusionMatrixDisplay.from_estimator(\n",
    "    xgb_clf, X_test, y_test, \n",
    "    cmap='Blues', values_format='d', \n",
    "    display_labels=['Charged Off', 'Fully Paid']\n",
    ")\n",
    "\n",
    "disp = RocCurveDisplay.from_estimator(xgb_clf, X_test, y_test)"
   ]
  },
  {
   "cell_type": "code",
   "execution_count": 79,
   "id": "f0b68377",
   "metadata": {},
   "outputs": [],
   "source": [
    "df_auc_score.loc[1] = ['XGBoost', roc_auc_score(y_train, xgb_clf.predict_proba(X_train)[:,1]), roc_auc_score(y_test, xgb_clf.predict_proba(X_test)[:,1])]"
   ]
  },
  {
   "cell_type": "markdown",
   "id": "486cbb46",
   "metadata": {},
   "source": [
    "### Neural Network"
   ]
  },
  {
   "cell_type": "code",
   "execution_count": 80,
   "id": "2ccf5cee",
   "metadata": {},
   "outputs": [],
   "source": [
    "ann_clf = tf.keras.models.Sequential([\n",
    "    tf.keras.layers.Dense(256, activation='relu', input_shape=[X_train.shape[1]]),\n",
    "    tf.keras.layers.Dropout(0.2),\n",
    "    tf.keras.layers.Dense(128, activation='relu'),\n",
    "    tf.keras.layers.Dropout(0.2),\n",
    "    tf.keras.layers.Dense(64, activation='relu'),\n",
    "    tf.keras.layers.Dropout(0.2),\n",
    "    tf.keras.layers.Dense(32, activation='relu'),\n",
    "    tf.keras.layers.Dropout(0.2),\n",
    "    tf.keras.layers.Dense(1, activation='sigmoid'),\n",
    "])"
   ]
  },
  {
   "cell_type": "code",
   "execution_count": 81,
   "id": "7e52f9b5",
   "metadata": {},
   "outputs": [],
   "source": [
    "ann_clf.compile(\n",
    "    optimizer='adam',\n",
    "    loss='binary_crossentropy',\n",
    "    metrics=['binary_accuracy']\n",
    ")"
   ]
  },
  {
   "cell_type": "code",
   "execution_count": 82,
   "id": "0c0bc906",
   "metadata": {},
   "outputs": [
    {
     "name": "stdout",
     "output_type": "stream",
     "text": [
      "Epoch 1/10\n",
      "689/689 [==============================] - 12s 7ms/step - loss: 0.4603 - binary_accuracy: 0.8082 - val_loss: 0.4427 - val_binary_accuracy: 0.8122\n",
      "Epoch 2/10\n",
      "689/689 [==============================] - 4s 6ms/step - loss: 0.4505 - binary_accuracy: 0.8088 - val_loss: 0.4435 - val_binary_accuracy: 0.8133\n",
      "Epoch 3/10\n",
      "689/689 [==============================] - 4s 6ms/step - loss: 0.4484 - binary_accuracy: 0.8092 - val_loss: 0.4465 - val_binary_accuracy: 0.8137\n",
      "Epoch 4/10\n",
      "689/689 [==============================] - 4s 6ms/step - loss: 0.4464 - binary_accuracy: 0.8093 - val_loss: 0.4428 - val_binary_accuracy: 0.8130\n",
      "Epoch 5/10\n",
      "689/689 [==============================] - 4s 6ms/step - loss: 0.4454 - binary_accuracy: 0.8095 - val_loss: 0.4428 - val_binary_accuracy: 0.8123\n",
      "Epoch 6/10\n",
      "689/689 [==============================] - 4s 6ms/step - loss: 0.4436 - binary_accuracy: 0.8102 - val_loss: 0.4422 - val_binary_accuracy: 0.8133\n",
      "Epoch 7/10\n",
      "689/689 [==============================] - 4s 6ms/step - loss: 0.4419 - binary_accuracy: 0.8103 - val_loss: 0.4437 - val_binary_accuracy: 0.8133\n",
      "Epoch 8/10\n",
      "689/689 [==============================] - 4s 6ms/step - loss: 0.4404 - binary_accuracy: 0.8106 - val_loss: 0.4438 - val_binary_accuracy: 0.8136\n",
      "Epoch 9/10\n",
      "689/689 [==============================] - 4s 6ms/step - loss: 0.4391 - binary_accuracy: 0.8113 - val_loss: 0.4441 - val_binary_accuracy: 0.8123\n",
      "Epoch 10/10\n",
      "689/689 [==============================] - 4s 6ms/step - loss: 0.4371 - binary_accuracy: 0.8123 - val_loss: 0.4460 - val_binary_accuracy: 0.8128\n"
     ]
    }
   ],
   "source": [
    "history = ann_clf.fit(x=X_train,\n",
    "                      y=y_train,\n",
    "                      epochs=10,\n",
    "                      batch_size=256,\n",
    "                      validation_data=(X_test, y_test))"
   ]
  },
  {
   "cell_type": "code",
   "execution_count": 83,
   "id": "8a6645ca",
   "metadata": {},
   "outputs": [
    {
     "name": "stdout",
     "output_type": "stream",
     "text": [
      "0.8127977135598603\n"
     ]
    }
   ],
   "source": [
    "y_test_pred = (ann_clf.predict(X_test) > 0.5).astype(\"int32\")\n",
    "print(accuracy_score(y_test, y_test_pred))"
   ]
  },
  {
   "cell_type": "code",
   "execution_count": 84,
   "id": "9dd54653",
   "metadata": {},
   "outputs": [
    {
     "data": {
      "image/png": "[encoded data removed]",
      "text/plain": [
       "<Figure size 432x432 with 2 Axes>"
      ]
     },
     "metadata": {
      "needs_background": "light"
     },
     "output_type": "display_data"
    }
   ],
   "source": [
    "x_axis_labels = ['Charged Off', 'Fully Paid']\n",
    "y_axis_labels = ['Charged Off', 'Fully Paid']\n",
    "cm = confusion_matrix(y_test, y_test_pred)\n",
    "fig, ax =plt.subplots(figsize=(6,6))\n",
    "f = sns.heatmap(cm, annot=True, fmt='d', cmap=\"Blues\", xticklabels=x_axis_labels, yticklabels=y_axis_labels, square=True)"
   ]
  },
  {
   "cell_type": "code",
   "execution_count": 85,
   "id": "0066102b",
   "metadata": {},
   "outputs": [],
   "source": [
    "df_auc_score.loc[2] = ['Neural Network', roc_auc_score(y_train, ann_clf.predict(X_train)), roc_auc_score(y_test, ann_clf.predict(X_test))]"
   ]
  },
  {
   "cell_type": "code",
   "execution_count": 86,
   "id": "04602615",
   "metadata": {},
   "outputs": [],
   "source": [
    "df_auc_score[['AUC_Train', 'AUC_Test']] = df_auc_score[['AUC_Train', 'AUC_Test']].round(2)"
   ]
  },
  {
   "cell_type": "markdown",
   "id": "0a98827f",
   "metadata": {},
   "source": [
    "## Model Comparison"
   ]
  },
  {
   "cell_type": "code",
   "execution_count": 87,
   "id": "3fa4111a",
   "metadata": {},
   "outputs": [
    {
     "data": {
      "text/html": [
       "<div>\n",
       "<style scoped>\n",
       "    .dataframe tbody tr th:only-of-type {\n",
       "        vertical-align: middle;\n",
       "    }\n",
       "\n",
       "    .dataframe tbody tr th {\n",
       "        vertical-align: top;\n",
       "    }\n",
       "\n",
       "    .dataframe thead th {\n",
       "        text-align: right;\n",
       "    }\n",
       "</style>\n",
       "<table border=\"1\" class=\"dataframe\">\n",
       "  <thead>\n",
       "    <tr style=\"text-align: right;\">\n",
       "      <th></th>\n",
       "      <th>Models</th>\n",
       "      <th>AUC_Train</th>\n",
       "      <th>AUC_Test</th>\n",
       "    </tr>\n",
       "  </thead>\n",
       "  <tbody>\n",
       "    <tr>\n",
       "      <th>0</th>\n",
       "      <td>Random Forest</td>\n",
       "      <td>1.00</td>\n",
       "      <td>0.70</td>\n",
       "    </tr>\n",
       "    <tr>\n",
       "      <th>1</th>\n",
       "      <td>XGBoost</td>\n",
       "      <td>0.79</td>\n",
       "      <td>0.71</td>\n",
       "    </tr>\n",
       "    <tr>\n",
       "      <th>2</th>\n",
       "      <td>Neural Network</td>\n",
       "      <td>0.74</td>\n",
       "      <td>0.70</td>\n",
       "    </tr>\n",
       "  </tbody>\n",
       "</table>\n",
       "</div>"
      ],
      "text/plain": [
       "           Models  AUC_Train  AUC_Test\n",
       "0   Random Forest       1.00      0.70\n",
       "1         XGBoost       0.79      0.71\n",
       "2  Neural Network       0.74      0.70"
      ]
     },
     "execution_count": 87,
     "metadata": {},
     "output_type": "execute_result"
    }
   ],
   "source": [
    "df_auc_score"
   ]
  },
  {
   "cell_type": "code",
   "execution_count": 88,
   "id": "16df1075",
   "metadata": {},
   "outputs": [
    {
     "data": {
      "text/plain": [
       "(0.0, 1.0)"
      ]
     },
     "execution_count": 88,
     "metadata": {},
     "output_type": "execute_result"
    },
    {
     "data": {
      "image/png": "[encoded data removed]",
      "text/plain": [
       "<Figure size 720x360 with 2 Axes>"
      ]
     },
     "metadata": {
      "needs_background": "light"
     },
     "output_type": "display_data"
    }
   ],
   "source": [
    "fig, axs = plt.subplots(ncols=2, figsize=(10,5))\n",
    "ax_train = sns.barplot(df_auc_score, x='Models', y='AUC_Train', hue='Models', ax=axs[0])\n",
    "ax_test = sns.barplot(df_auc_score, x='Models', y='AUC_Test', hue='Models', ax=axs[1])\n",
    "\n",
    "for i in ax_train.containers:\n",
    "    ax_train.bar_label(i,)\n",
    "    \n",
    "for i in ax_test.containers:\n",
    "    ax_test.bar_label(i,)\n",
    "\n",
    "ax_test.set_ylim(0,1)"
   ]
  },
  {
   "cell_type": "code",
   "execution_count": 89,
   "id": "43b1a6ec",
   "metadata": {},
   "outputs": [],
   "source": [
    "rf_fpr, rf_tpr, fr_thresholds = roc_curve(y_test, rf_clf.predict_proba(X_test)[:,1])\n",
    "xgb_fpr, xgb_tpr, xgb_thresholds = roc_curve(y_test, xgb_clf.predict_proba(X_test)[:,1])\n",
    "ann_fpr, ann_tpr, ann_thresholds = roc_curve(y_test, ann_clf.predict(X_test))"
   ]
  },
  {
   "cell_type": "code",
   "execution_count": 90,
   "id": "c14447a4",
   "metadata": {},
   "outputs": [
    {
     "data": {
      "image/png": "[encoded data removed]",
      "text/plain": [
       "<seaborn._core.plot.Plot at 0x2b528887670>"
      ]
     },
     "execution_count": 90,
     "metadata": {
      "image/png": {
       "height": 378.25,
       "width": 650.675
      }
     },
     "output_type": "execute_result"
    }
   ],
   "source": [
    "(so.Plot()\n",
    "   .add(so.Line(color = 'red'),x = rf_fpr, y = rf_tpr, label=\"Random Forest\")\n",
    "   .add(so.Line(color = 'blue'),x = xgb_fpr, y = xgb_tpr, label=\"XGBoost\")\n",
    "   .add(so.Line(color = 'green'), x = ann_fpr, y = ann_tpr, label=\"Neural Network\")\n",
    "   .add(so.Line(color = 'black'),x = rf_fpr, y = rf_fpr)\n",
    ")"
   ]
  },
  {
   "cell_type": "markdown",
   "id": "0fd5cd97",
   "metadata": {},
   "source": [
    "If we look at the AUC score, the machine learning model with XGBoost has the highest AUC score. However, the AUC areas of these three models are extremely similar. So we need to look at it from another perspective. In the credit risk model, we really avoid false positive judgment, that is, we predict that the client will be successful in paying off the debt, but in fact, they will most likely be charged off. The XGBoost model has the lowest number of false positive judgments compared to the other two models based on the confusion matrix. Based on several sources, `AUC score = 0.7-0.8` can be considered `fair or acceptable`."
   ]
  }
 ],
 "metadata": {
  "kernelspec": {
   "display_name": "Python 3 (ipykernel)",
   "language": "python",
   "name": "python3"
  },
  "language_info": {
   "codemirror_mode": {
    "name": "ipython",
    "version": 3
   },
   "file_extension": ".py",
   "mimetype": "text/x-python",
   "name": "python",
   "nbconvert_exporter": "python",
   "pygments_lexer": "ipython3",
   "version": "3.10.2"
  }
 },
 "nbformat": 4,
 "nbformat_minor": 5
}
